{
 "cells": [
  {
   "cell_type": "code",
   "execution_count": null,
   "id": "0",
   "metadata": {},
   "outputs": [],
   "source": [
    "import pandas\n"
   ]
  },
  {
   "cell_type": "code",
   "execution_count": null,
   "id": "1",
   "metadata": {},
   "outputs": [],
   "source": []
  },
  {
   "cell_type": "code",
   "execution_count": null,
   "id": "2",
   "metadata": {},
   "outputs": [],
   "source": [
    "df.shape[0] #rows\n",
    "df.shape[1] #columns\n",
    "df[['foo','bar']]\n",
    "df.head() #first 5 rows (n) returns n rows\n",
    "df.tail() #last 5 rows (n) returns n rows\n",
    "\n",
    "df.loc[n:n] #returns the n:n index n to index n row values\n",
    "\n",
    "df[(df['bar'])] #filter the true rows\n",
    "df[(df['foo'] == 'x') | (df['foo'] == 'z')]  # filters data\n",
    "\n",
    "new_df = df.dropna() #returns rows where are NaN values\n",
    "\n",
    "new_df = df.dropna(how='all') #deletes the rows that all cells are NaN\n",
    "\n",
    "new_df = df.fillna(0) #converts NaN to 0\n",
    "\n",
    "ix = df.index #returns index values\n",
    "\n",
    "df = df.set_index('foo') #sets the index with the 'foo' values, foo is the index\n",
    "\n",
    "df.foo['a']  #returns the 'a' index values\n",
    "df.iloc[0] #returns the index 0 whatever it is the index value\n",
    "\n",
    "df.sum()\n",
    "df.cumsum()\n",
    "\n",
    "df.median()\n",
    "df.mean()\n",
    "\n",
    "df.groupby('a') #group the matrix by the values of the column 'a' \n",
    "\n",
    "df.sort_values(by=['col1', 'col2'])\n",
    "df.sort_values(by=['col1', ascending=False])\n",
    "\n",
    "\n",
    "\n",
    "\n",
    "\n",
    "\n",
    "\n",
    "\n"
   ]
  },
  {
   "cell_type": "code",
   "execution_count": null,
   "id": "3",
   "metadata": {},
   "outputs": [],
   "source": []
  },
  {
   "cell_type": "code",
   "execution_count": null,
   "id": "4",
   "metadata": {},
   "outputs": [],
   "source": []
  }
 ],
 "metadata": {
  "kernelspec": {
   "display_name": "Python 3 (ipykernel)",
   "language": "python",
   "name": "python3"
  },
  "language_info": {
   "codemirror_mode": {
    "name": "ipython",
    "version": 3
   },
   "file_extension": ".py",
   "mimetype": "text/x-python",
   "name": "python",
   "nbconvert_exporter": "python",
   "pygments_lexer": "ipython3",
   "version": "3.9.7"
  }
 },
 "nbformat": 4,
 "nbformat_minor": 5
}
