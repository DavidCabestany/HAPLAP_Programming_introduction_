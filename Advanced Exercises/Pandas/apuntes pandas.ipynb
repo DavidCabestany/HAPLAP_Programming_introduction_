{
 "cells": [
  {
   "cell_type": "code",
   "execution_count": 2,
   "id": "b27188f6-e014-47ad-8fea-0a80d11b0f3f",
   "metadata": {},
   "outputs": [],
   "source": [
    "import pandas\n"
   ]
  },
  {
   "cell_type": "code",
   "execution_count": null,
   "id": "248004ef-5360-4b3e-ad3d-7816f11f2956",
   "metadata": {},
   "outputs": [],
   "source": []
  },
  {
   "cell_type": "code",
   "execution_count": 1,
   "id": "f88352c7-9efe-4be8-9a38-31e650645dd0",
   "metadata": {},
   "outputs": [
    {
     "ename": "NameError",
     "evalue": "name 'df' is not defined",
     "output_type": "error",
     "traceback": [
      "\u001b[0;31m---------------------------------------------------------------------------\u001b[0m",
      "\u001b[0;31mNameError\u001b[0m                                 Traceback (most recent call last)",
      "\u001b[0;32m<ipython-input-1-270e3266b97a>\u001b[0m in \u001b[0;36m<module>\u001b[0;34m\u001b[0m\n\u001b[0;32m----> 1\u001b[0;31m \u001b[0mdf\u001b[0m\u001b[0;34m.\u001b[0m\u001b[0mshape\u001b[0m\u001b[0;34m[\u001b[0m\u001b[0;36m0\u001b[0m\u001b[0;34m]\u001b[0m\u001b[0;34m\u001b[0m\u001b[0;34m\u001b[0m\u001b[0m\n\u001b[0m",
      "\u001b[0;31mNameError\u001b[0m: name 'df' is not defined"
     ]
    }
   ],
   "source": [
    "df.shape[0] #rows\n",
    "df.shape[1] #columns\n",
    "df[['foo','bar']]\n",
    "df.head() #first 5 rows (n) returns n rows\n",
    "df.tail() #last 5 rows (n) returns n rows\n",
    "\n",
    "df.loc[n:n] #returns the n:n index n to index n row values\n",
    "\n",
    "df[(df['bar'])] #filter the true rows\n",
    "df[(df['foo'] == 'x') | (df['foo'] == 'z')]  # filters data\n",
    "\n",
    "new_df = df.dropna() #returns rows where are NaN values\n",
    "\n",
    "new_df = df.dropna(how='all') #deletes the rows that all cells are NaN\n",
    "\n",
    "new_df = df.fillna(0) #converts NaN to 0\n",
    "\n",
    "ix = df.index #returns index values\n",
    "\n",
    "df = df.set_index('foo') #sets the index with the 'foo' values, foo is the index\n",
    "\n",
    "df.foo['a']  #returns the 'a' index values\n",
    "df.iloc[0] #returns the index 0 whatever it is the index value\n",
    "\n",
    "df.sum()\n",
    "df.cumsum()\n",
    "\n",
    "df.median()\n",
    "df.mean()\n",
    "\n",
    "df.groupby('a') #group the matrix by the values of the column 'a' \n",
    "\n",
    "df.sort_values(by=['col1', 'col2'])\n",
    "df.sort_values(by=['col1', ascending=False])\n",
    "\n",
    "\n",
    "\n",
    "\n",
    "\n",
    "\n",
    "\n",
    "\n"
   ]
  },
  {
   "cell_type": "code",
   "execution_count": null,
   "id": "61017a9f-5915-4f7a-bf0f-909f3bc3b361",
   "metadata": {},
   "outputs": [],
   "source": []
  },
  {
   "cell_type": "code",
   "execution_count": null,
   "id": "3d71e1f3-d2fc-4a4b-80d9-5c85c971a9dd",
   "metadata": {},
   "outputs": [],
   "source": []
  }
 ],
 "metadata": {
  "kernelspec": {
   "display_name": "Python 3 (ipykernel)",
   "language": "python",
   "name": "python3"
  },
  "language_info": {
   "codemirror_mode": {
    "name": "ipython",
    "version": 3
   },
   "file_extension": ".py",
   "mimetype": "text/x-python",
   "name": "python",
   "nbconvert_exporter": "python",
   "pygments_lexer": "ipython3",
   "version": "3.9.7"
  }
 },
 "nbformat": 4,
 "nbformat_minor": 5
}
