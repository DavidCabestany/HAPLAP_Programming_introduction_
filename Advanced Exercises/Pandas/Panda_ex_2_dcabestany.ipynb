{
 "cells": [
  {
   "cell_type": "code",
   "execution_count": null,
   "id": "0",
   "metadata": {},
   "outputs": [],
   "source": [
    "import pandas as pd\n",
    "\n",
    "\n",
    "cast = pd.read_csv('Data 2/cast.csv', index_col=None)\n",
    "release_dates = pd.read_csv('Data 2/release_dates.csv', index_col=None,\n",
    "parse_dates=['date'], infer_datetime_format=True)\n",
    "titles = cast[['title', 'year']].drop_duplicates().reset_index(drop=True)"
   ]
  },
  {
   "cell_type": "code",
   "execution_count": null,
   "id": "1",
   "metadata": {},
   "outputs": [],
   "source": [
    "len(titles['title'])"
   ]
  },
  {
   "cell_type": "code",
   "execution_count": null,
   "id": "2",
   "metadata": {},
   "outputs": [],
   "source": [
    "first_film = titles.sort_values('year')\n",
    "first_film.iloc[0]"
   ]
  },
  {
   "cell_type": "code",
   "execution_count": null,
   "id": "3",
   "metadata": {},
   "outputs": [],
   "source": [
    "films_1950 = titles['title'][(titles['year']==1950)]\n",
    "\n",
    "len(films_1950)"
   ]
  },
  {
   "cell_type": "code",
   "execution_count": null,
   "id": "4",
   "metadata": {},
   "outputs": [],
   "source": [
    "films_1960 = titles['title'][(titles['year']==1960)]\n",
    "len(films_1960)"
   ]
  },
  {
   "cell_type": "code",
   "execution_count": null,
   "id": "5",
   "metadata": {},
   "outputs": [],
   "source": [
    "films_70s = titles.groupby('year').size().loc[1970:1979]\n",
    "films_70s"
   ]
  },
  {
   "cell_type": "code",
   "execution_count": null,
   "id": "6",
   "metadata": {},
   "outputs": [],
   "source": [
    "my_birth_films = titles.groupby('year').size().loc[1988:2014]\n",
    "my_birth_films.cumsum().loc[2014] #same as my_birth_films.sum()"
   ]
  },
  {
   "cell_type": "code",
   "execution_count": null,
   "id": "7",
   "metadata": {},
   "outputs": [],
   "source": [
    "films_star = titles[titles['title'].str.startswith('Star')]\n",
    "\n",
    "\n",
    "films_star = films_star[films_star['title'].str.contains('Wars|Trek')]\n",
    "\n",
    "films_star.sort_values('title', ascending=False)\n",
    "                     \n",
    "#df[df['A'].str.contains(\"hello\")]\n"
   ]
  },
  {
   "cell_type": "code",
   "execution_count": null,
   "id": "8",
   "metadata": {},
   "outputs": [],
   "source": [
    "len(cast['title'][(cast['name'].str.contains('Aaron Abrams', ))])"
   ]
  },
  {
   "cell_type": "code",
   "execution_count": null,
   "id": "9",
   "metadata": {},
   "outputs": [],
   "source": [
    "Aaron_lead = cast[(cast['name'].str.contains('Aaron Abrams', ))]\n",
    "len(Aaron_lead['name'][(cast['n']==1)])\n"
   ]
  },
  {
   "cell_type": "code",
   "execution_count": null,
   "id": "10",
   "metadata": {},
   "outputs": [],
   "source": [
    "Aaron_lead.sort_values('year')['title'][(cast['n']==1)]"
   ]
  },
  {
   "cell_type": "code",
   "execution_count": null,
   "id": "11",
   "metadata": {},
   "outputs": [],
   "source": [
    "cast['title'].value_counts().head(15)"
   ]
  },
  {
   "cell_type": "code",
   "execution_count": null,
   "id": "12",
   "metadata": {},
   "outputs": [],
   "source": [
    "cast['character'].value_counts().head(11)"
   ]
  },
  {
   "cell_type": "code",
   "execution_count": null,
   "id": "13",
   "metadata": {},
   "outputs": [],
   "source": [
    "zombies = cast['name'][(cast['character']=='Zombie')]\n",
    "\n",
    "zombies.value_counts().head(1)"
   ]
  },
  {
   "cell_type": "code",
   "execution_count": null,
   "id": "14",
   "metadata": {},
   "outputs": [],
   "source": [
    "titles.to_csv('titles.csv')"
   ]
  },
  {
   "cell_type": "code",
   "execution_count": null,
   "id": "15",
   "metadata": {},
   "outputs": [],
   "source": [
    "cast_by_title_year = cast.set_index(['title', 'year']).sort_index()\n",
    "cast_by_title_year"
   ]
  },
  {
   "cell_type": "code",
   "execution_count": null,
   "id": "16",
   "metadata": {},
   "outputs": [],
   "source": [
    "#cast_by_title_year[cast_by_title_year['title'].str.contains('Hamlet')]\n",
    "cast_by_title_year.loc['Hamlet'].sort_values('n').head(10)"
   ]
  },
  {
   "cell_type": "code",
   "execution_count": null,
   "id": "17",
   "metadata": {},
   "outputs": [],
   "source": [
    "cast_by_title_year.loc[('Hamlet', 1996)].sort_values('n').head(10)"
   ]
  },
  {
   "cell_type": "code",
   "execution_count": null,
   "id": "18",
   "metadata": {},
   "outputs": [],
   "source": [
    "autores_hamlet = cast_by_title_year.loc['Hamlet'].drop_duplicates(subset='name')\n",
    "\n",
    "autores_hamlet.value_counts(subset='year')"
   ]
  },
  {
   "cell_type": "code",
   "execution_count": null,
   "id": "19",
   "metadata": {},
   "outputs": [],
   "source": []
  },
  {
   "cell_type": "code",
   "execution_count": null,
   "id": "20",
   "metadata": {},
   "outputs": [],
   "source": []
  },
  {
   "cell_type": "code",
   "execution_count": null,
   "id": "21",
   "metadata": {},
   "outputs": [],
   "source": []
  },
  {
   "cell_type": "code",
   "execution_count": null,
   "id": "22",
   "metadata": {},
   "outputs": [],
   "source": []
  },
  {
   "cell_type": "code",
   "execution_count": null,
   "id": "23",
   "metadata": {},
   "outputs": [],
   "source": []
  },
  {
   "cell_type": "code",
   "execution_count": null,
   "id": "24",
   "metadata": {},
   "outputs": [],
   "source": []
  }
 ],
 "metadata": {
  "kernelspec": {
   "display_name": "Python 3 (ipykernel)",
   "language": "python",
   "name": "python3"
  },
  "language_info": {
   "codemirror_mode": {
    "name": "ipython",
    "version": 3
   },
   "file_extension": ".py",
   "mimetype": "text/x-python",
   "name": "python",
   "nbconvert_exporter": "python",
   "pygments_lexer": "ipython3",
   "version": "3.9.7"
  }
 },
 "nbformat": 4,
 "nbformat_minor": 5
}
