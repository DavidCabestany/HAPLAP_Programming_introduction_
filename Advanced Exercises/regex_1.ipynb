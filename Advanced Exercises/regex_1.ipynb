{
 "cells": [
  {
   "cell_type": "code",
   "execution_count": 1,
   "id": "fb76b1b4-feee-4845-95c5-0955c87af92c",
   "metadata": {},
   "outputs": [],
   "source": [
    "import re"
   ]
  },
  {
   "cell_type": "code",
   "execution_count": 2,
   "id": "6a97a52c-a236-4b3e-82bb-d6cd759b1b8e",
   "metadata": {},
   "outputs": [],
   "source": [
    "def matching(iStr):\n",
    "    match = re.search(r'[a-zA-Z0-9]',iStr)\n",
    "    if match == None:\n",
    "        return False\n",
    "    else:\n",
    "        return True"
   ]
  },
  {
   "cell_type": "code",
   "execution_count": 3,
   "id": "0b27aebf-0710-4214-8585-89667ffef63b",
   "metadata": {},
   "outputs": [
    {
     "name": "stdout",
     "output_type": "stream",
     "text": [
      "True\n",
      "False\n"
     ]
    }
   ],
   "source": [
    "print(matching('aaAA91'))\n",
    "print(matching('###'))\n"
   ]
  },
  {
   "cell_type": "code",
   "execution_count": 4,
   "id": "b89d5656-19b8-49a8-9415-1503fee3bfb9",
   "metadata": {},
   "outputs": [],
   "source": [
    "def match_ab1(iStr):\n",
    "    match = re.search(r'(ab+)',iStr)\n",
    "    if match == None:\n",
    "        return False\n",
    "    else:\n",
    "        return True"
   ]
  },
  {
   "cell_type": "code",
   "execution_count": 5,
   "id": "8ceace08-c939-4ea3-88a7-2bda43b21585",
   "metadata": {},
   "outputs": [
    {
     "name": "stdout",
     "output_type": "stream",
     "text": [
      "False\n",
      "True\n"
     ]
    }
   ],
   "source": [
    "print(match_ab1('aaAA91'))\n",
    "print(match_ab1('aabbbb'))"
   ]
  },
  {
   "cell_type": "code",
   "execution_count": 6,
   "id": "7a868c70-3b4c-455b-b0ca-151514df8d29",
   "metadata": {},
   "outputs": [],
   "source": [
    "def match_ab2(iStr):\n",
    "    match = re.match(r'(ab?)$', iStr) #same fullmatch(r'(ab?)')\n",
    "    if match == None:\n",
    "        return False\n",
    "    else:\n",
    "        return True"
   ]
  },
  {
   "cell_type": "code",
   "execution_count": 7,
   "id": "0cf90abb-3a85-4588-a2e8-5a54809c9f75",
   "metadata": {},
   "outputs": [
    {
     "name": "stdout",
     "output_type": "stream",
     "text": [
      "False\n",
      "True\n"
     ]
    }
   ],
   "source": [
    "print(match_ab2('aaAA91'))\n",
    "print(match_ab2('ab'))"
   ]
  },
  {
   "cell_type": "code",
   "execution_count": 8,
   "id": "8fd90264-2945-4e33-a2f0-d724c0c5626f",
   "metadata": {},
   "outputs": [],
   "source": [
    "def match_ab3(iStr):\n",
    "    match = re.match(r'abbb', iStr)\n",
    "    if match == None:\n",
    "        return False\n",
    "    else:\n",
    "        return True"
   ]
  },
  {
   "cell_type": "code",
   "execution_count": 9,
   "id": "52fa7c40-e3d2-4226-81e5-d4905932987b",
   "metadata": {},
   "outputs": [
    {
     "name": "stdout",
     "output_type": "stream",
     "text": [
      "False\n",
      "True\n"
     ]
    }
   ],
   "source": [
    "print(match_ab3('aaAA91'))\n",
    "print(match_ab3('abbb'))"
   ]
  },
  {
   "cell_type": "code",
   "execution_count": 10,
   "id": "b33ea3db-3242-44cf-9c60-595788f8c154",
   "metadata": {},
   "outputs": [],
   "source": [
    "def match_ab4(iStr):\n",
    "    match = re.search(r'^[A-Za-z]+', iStr)\n",
    "    \n",
    "    if match == None:\n",
    "        return False\n",
    "    else:\n",
    "        return match.group()"
   ]
  },
  {
   "cell_type": "code",
   "execution_count": 11,
   "id": "6bcd5734-a90c-4760-8f66-0bf6b07f47e9",
   "metadata": {},
   "outputs": [
    {
     "name": "stdout",
     "output_type": "stream",
     "text": [
      "False\n",
      "abbb\n"
     ]
    }
   ],
   "source": [
    "print(match_ab4('9125aaAA91'))\n",
    "print(match_ab4('abbb8494'))"
   ]
  },
  {
   "cell_type": "code",
   "execution_count": 12,
   "id": "9951b29f-c3bf-47dc-bc5d-1cfa45450788",
   "metadata": {},
   "outputs": [],
   "source": [
    "def match_ab5(iStr):\n",
    "    match = re.search(r'[A-Za-z]+$', iStr)\n",
    "    if match == None:\n",
    "        return False\n",
    "    else:\n",
    "        return match.group()"
   ]
  },
  {
   "cell_type": "code",
   "execution_count": 13,
   "id": "cbcbe086-db9b-4d27-b9f0-61af4b32052b",
   "metadata": {},
   "outputs": [
    {
     "name": "stdout",
     "output_type": "stream",
     "text": [
      "word\n",
      "False\n"
     ]
    }
   ],
   "source": [
    "print(match_ab5('9125aaAA9word'))\n",
    "print(match_ab5('abbb8494'))"
   ]
  },
  {
   "cell_type": "code",
   "execution_count": 14,
   "id": "8f0b8120-7e6f-42b9-b1e1-973023a5e076",
   "metadata": {},
   "outputs": [],
   "source": [
    "def has_vowel(iStr):\n",
    "    match = re.search(r'[aeiou]+', iStr)\n",
    "    if match == None:\n",
    "        return False\n",
    "    else:\n",
    "        return True"
   ]
  },
  {
   "cell_type": "code",
   "execution_count": 15,
   "id": "fd8ecb1f-ba33-4138-9486-12c0c20c6c1d",
   "metadata": {},
   "outputs": [
    {
     "name": "stdout",
     "output_type": "stream",
     "text": [
      "False\n",
      "True\n"
     ]
    }
   ],
   "source": [
    "print(has_vowel('9125d'))\n",
    "print(has_vowel('abbb8494'))"
   ]
  },
  {
   "cell_type": "code",
   "execution_count": 16,
   "id": "59e2486b-9003-42b6-b864-8ad51371f3ca",
   "metadata": {},
   "outputs": [],
   "source": [
    "def is_integer(iStr):\n",
    "    match = re.search(r'\\d', iStr)\n",
    "    if match == None:\n",
    "        return False\n",
    "    else:\n",
    "        return True"
   ]
  },
  {
   "cell_type": "code",
   "execution_count": 17,
   "id": "fb26b1a7-6e53-4321-b3ea-6dd731ad9f4f",
   "metadata": {},
   "outputs": [
    {
     "name": "stdout",
     "output_type": "stream",
     "text": [
      "True\n",
      "False\n"
     ]
    }
   ],
   "source": [
    "print(is_integer('9125d'))\n",
    "print(is_integer('abbb'))"
   ]
  },
  {
   "cell_type": "code",
   "execution_count": 18,
   "id": "635e6015-2355-466f-a1e1-5fc454e8415e",
   "metadata": {},
   "outputs": [],
   "source": [
    "def is_fraction(iStr):\n",
    "    match = re.search(r'^\\-?[0-9]+\\/[1-9]+$', iStr)\n",
    "    if match == None:\n",
    "        return False\n",
    "    else:\n",
    "        return True"
   ]
  },
  {
   "cell_type": "code",
   "execution_count": 19,
   "id": "effef522-95da-4dc7-8205-729f3ea5687f",
   "metadata": {},
   "outputs": [
    {
     "name": "stdout",
     "output_type": "stream",
     "text": [
      "True\n",
      "False\n"
     ]
    }
   ],
   "source": [
    "print(is_fraction('-912/2'))\n",
    "print(is_fraction('abbb'))"
   ]
  },
  {
   "cell_type": "code",
   "execution_count": 20,
   "id": "1855a93e-f9c2-411d-885b-b894cea880c3",
   "metadata": {},
   "outputs": [],
   "source": [
    "def find_n(iStr):\n",
    "    match = re.findall(\"\\d+\", iStr)\n",
    "    if match == None:\n",
    "        return False\n",
    "    else:\n",
    "        return match"
   ]
  },
  {
   "cell_type": "code",
   "execution_count": 21,
   "id": "780c5064-61e8-421a-8ea6-2fc97d794dfe",
   "metadata": {},
   "outputs": [
    {
     "name": "stdout",
     "output_type": "stream",
     "text": [
      "43\n",
      "7\n",
      "783\n",
      "4\n",
      "4\n"
     ]
    }
   ],
   "source": [
    "nums = find_n('43ijssh7hfd783a4a4')\n",
    "\n",
    "for i in nums: print(i)\n",
    "\n"
   ]
  },
  {
   "cell_type": "code",
   "execution_count": 36,
   "id": "60aa4403-a558-413b-9000-72cf1ce6e30c",
   "metadata": {},
   "outputs": [],
   "source": [
    "def valid_date(iStr):\n",
    "    \n",
    "\n",
    "    if re.match(r'^\\d{4}\\-(0[1-9]|1[012])\\-(0[1-9]|[12][0-9]|3[01])$', iStr) != None:\n",
    "        return True\n",
    "    else:\n",
    "        return False\n",
    "    \n"
   ]
  },
  {
   "cell_type": "code",
   "execution_count": 37,
   "id": "72de11fa-ec69-453a-b6d7-227445ed3530",
   "metadata": {},
   "outputs": [
    {
     "data": {
      "text/plain": [
       "True"
      ]
     },
     "execution_count": 37,
     "metadata": {},
     "output_type": "execute_result"
    }
   ],
   "source": [
    "valid_date(\"1988-05-13\")"
   ]
  },
  {
   "cell_type": "code",
   "execution_count": 38,
   "id": "43331669-c2dc-4e74-9987-389a6bd1b7d3",
   "metadata": {},
   "outputs": [],
   "source": [
    "def normalize_whitespace(iStr):\n",
    "    oStr = re.sub(r'\\s' , r' ', iStr)\n",
    "    return oStr"
   ]
  },
  {
   "cell_type": "code",
   "execution_count": 46,
   "id": "3beae83d-1b39-46da-847d-4a4a0b80368a",
   "metadata": {},
   "outputs": [],
   "source": [
    "def remove_non_alphanumeric(iStr):\n",
    "    oStr = re.sub(r'\\W' , r'', iStr)\n",
    "    return oStr"
   ]
  },
  {
   "cell_type": "code",
   "execution_count": 45,
   "id": "dc608921-9c8a-4f50-aea3-edae256c199d",
   "metadata": {},
   "outputs": [
    {
     "data": {
      "text/plain": [
       "'19883533'"
      ]
     },
     "execution_count": 45,
     "metadata": {},
     "output_type": "execute_result"
    }
   ],
   "source": [
    "remove_non_alphanumeric(\"19?¿|88-35-33\")"
   ]
  },
  {
   "cell_type": "code",
   "execution_count": 49,
   "id": "e96bf7d7-ac8d-42b6-9d17-aefcc5867c23",
   "metadata": {},
   "outputs": [],
   "source": [
    "def valid_email(iStr):\n",
    "    if re.match(r'\\w+@(\\w|\\.)+\\.(edu|com|ord|net)$', iStr) != None:\n",
    "        return True\n",
    "    else: \n",
    "        return False\n"
   ]
  },
  {
   "cell_type": "code",
   "execution_count": 54,
   "id": "b03f0aab-c57b-4839-9c52-19a35405acdc",
   "metadata": {},
   "outputs": [
    {
     "data": {
      "text/plain": [
       "False"
      ]
     },
     "execution_count": 54,
     "metadata": {},
     "output_type": "execute_result"
    }
   ],
   "source": [
    "valid_email(\"19@|88-35-33.com\")"
   ]
  },
  {
   "cell_type": "code",
   "execution_count": 56,
   "id": "e8d09b3e-2e13-4327-91b3-db8ff04e2b16",
   "metadata": {},
   "outputs": [
    {
     "data": {
      "text/plain": [
       "True"
      ]
     },
     "execution_count": 56,
     "metadata": {},
     "output_type": "execute_result"
    }
   ],
   "source": [
    "valid_email(\"qq@a.com\")"
   ]
  },
  {
   "cell_type": "code",
   "execution_count": null,
   "id": "2bab6269-a826-40ca-84ff-c753689f18d0",
   "metadata": {},
   "outputs": [],
   "source": []
  }
 ],
 "metadata": {
  "kernelspec": {
   "display_name": "Python 3 (ipykernel)",
   "language": "python",
   "name": "python3"
  },
  "language_info": {
   "codemirror_mode": {
    "name": "ipython",
    "version": 3
   },
   "file_extension": ".py",
   "mimetype": "text/x-python",
   "name": "python",
   "nbconvert_exporter": "python",
   "pygments_lexer": "ipython3",
   "version": "3.9.7"
  }
 },
 "nbformat": 4,
 "nbformat_minor": 5
}
