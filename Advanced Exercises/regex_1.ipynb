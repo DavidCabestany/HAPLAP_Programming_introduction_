{
 "cells": [
  {
   "cell_type": "code",
   "execution_count": null,
   "id": "0",
   "metadata": {},
   "outputs": [],
   "source": [
    "import re"
   ]
  },
  {
   "cell_type": "code",
   "execution_count": null,
   "id": "1",
   "metadata": {},
   "outputs": [],
   "source": [
    "def matching(iStr):\n",
    "    match = re.search(r'[a-zA-Z0-9]',iStr)\n",
    "    if match == None:\n",
    "        return False\n",
    "    else:\n",
    "        return True"
   ]
  },
  {
   "cell_type": "code",
   "execution_count": null,
   "id": "2",
   "metadata": {},
   "outputs": [],
   "source": [
    "print(matching('aaAA91'))\n",
    "print(matching('###'))\n"
   ]
  },
  {
   "cell_type": "code",
   "execution_count": null,
   "id": "3",
   "metadata": {},
   "outputs": [],
   "source": [
    "def match_ab1(iStr):\n",
    "    match = re.search(r'(ab+)',iStr)\n",
    "    if match == None:\n",
    "        return False\n",
    "    else:\n",
    "        return True"
   ]
  },
  {
   "cell_type": "code",
   "execution_count": null,
   "id": "4",
   "metadata": {},
   "outputs": [],
   "source": [
    "print(match_ab1('aaAA91'))\n",
    "print(match_ab1('aabbbb'))"
   ]
  },
  {
   "cell_type": "code",
   "execution_count": null,
   "id": "5",
   "metadata": {},
   "outputs": [],
   "source": [
    "def match_ab2(iStr):\n",
    "    match = re.match(r'(ab?)$', iStr) #same fullmatch(r'(ab?)')\n",
    "    if match == None:\n",
    "        return False\n",
    "    else:\n",
    "        return True"
   ]
  },
  {
   "cell_type": "code",
   "execution_count": null,
   "id": "6",
   "metadata": {},
   "outputs": [],
   "source": [
    "print(match_ab2('aaAA91'))\n",
    "print(match_ab2('ab'))"
   ]
  },
  {
   "cell_type": "code",
   "execution_count": null,
   "id": "7",
   "metadata": {},
   "outputs": [],
   "source": [
    "def match_ab3(iStr):\n",
    "    match = re.match(r'abbb', iStr)\n",
    "    if match == None:\n",
    "        return False\n",
    "    else:\n",
    "        return True"
   ]
  },
  {
   "cell_type": "code",
   "execution_count": null,
   "id": "8",
   "metadata": {},
   "outputs": [],
   "source": [
    "print(match_ab3('aaAA91'))\n",
    "print(match_ab3('abbb'))"
   ]
  },
  {
   "cell_type": "code",
   "execution_count": null,
   "id": "9",
   "metadata": {},
   "outputs": [],
   "source": [
    "def match_ab4(iStr):\n",
    "    match = re.search(r'^[A-Za-z]+', iStr)\n",
    "    \n",
    "    if match == None:\n",
    "        return False\n",
    "    else:\n",
    "        return match.group()"
   ]
  },
  {
   "cell_type": "code",
   "execution_count": null,
   "id": "10",
   "metadata": {},
   "outputs": [],
   "source": [
    "print(match_ab4('9125aaAA91'))\n",
    "print(match_ab4('abbb8494'))"
   ]
  },
  {
   "cell_type": "code",
   "execution_count": null,
   "id": "11",
   "metadata": {},
   "outputs": [],
   "source": [
    "def match_ab5(iStr):\n",
    "    match = re.search(r'[A-Za-z]+$', iStr)\n",
    "    if match == None:\n",
    "        return False\n",
    "    else:\n",
    "        return match.group()"
   ]
  },
  {
   "cell_type": "code",
   "execution_count": null,
   "id": "12",
   "metadata": {},
   "outputs": [],
   "source": [
    "print(match_ab5('9125aaAA9word'))\n",
    "print(match_ab5('abbb8494'))"
   ]
  },
  {
   "cell_type": "code",
   "execution_count": null,
   "id": "13",
   "metadata": {},
   "outputs": [],
   "source": [
    "def has_vowel(iStr):\n",
    "    match = re.search(r'[aeiou]+', iStr)\n",
    "    if match == None:\n",
    "        return False\n",
    "    else:\n",
    "        return True"
   ]
  },
  {
   "cell_type": "code",
   "execution_count": null,
   "id": "14",
   "metadata": {},
   "outputs": [],
   "source": [
    "print(has_vowel('9125d'))\n",
    "print(has_vowel('abbb8494'))"
   ]
  },
  {
   "cell_type": "code",
   "execution_count": null,
   "id": "15",
   "metadata": {},
   "outputs": [],
   "source": [
    "def is_integer(iStr):\n",
    "    match = re.search(r'\\d', iStr)\n",
    "    if match == None:\n",
    "        return False\n",
    "    else:\n",
    "        return True"
   ]
  },
  {
   "cell_type": "code",
   "execution_count": null,
   "id": "16",
   "metadata": {},
   "outputs": [],
   "source": [
    "print(is_integer('9125d'))\n",
    "print(is_integer('abbb'))"
   ]
  },
  {
   "cell_type": "code",
   "execution_count": null,
   "id": "17",
   "metadata": {},
   "outputs": [],
   "source": [
    "def is_fraction(iStr):\n",
    "    match = re.search(r'^\\-?[0-9]+\\/[1-9]+$', iStr)\n",
    "    if match == None:\n",
    "        return False\n",
    "    else:\n",
    "        return True"
   ]
  },
  {
   "cell_type": "code",
   "execution_count": null,
   "id": "18",
   "metadata": {},
   "outputs": [],
   "source": [
    "print(is_fraction('-912/2'))\n",
    "print(is_fraction('abbb'))"
   ]
  },
  {
   "cell_type": "code",
   "execution_count": null,
   "id": "19",
   "metadata": {},
   "outputs": [],
   "source": [
    "def find_n(iStr):\n",
    "    match = re.findall(\"\\d+\", iStr)\n",
    "    if match == None:\n",
    "        return False\n",
    "    else:\n",
    "        return match"
   ]
  },
  {
   "cell_type": "code",
   "execution_count": null,
   "id": "20",
   "metadata": {},
   "outputs": [],
   "source": [
    "nums = find_n('43ijssh7hfd783a4a4')\n",
    "\n",
    "for i in nums: print(i)\n",
    "\n"
   ]
  },
  {
   "cell_type": "code",
   "execution_count": null,
   "id": "21",
   "metadata": {},
   "outputs": [],
   "source": [
    "def valid_date(iStr):\n",
    "    \n",
    "\n",
    "    if re.match(r'^\\d{4}\\-(0[1-9]|1[012])\\-(0[1-9]|[12][0-9]|3[01])$', iStr) != None:\n",
    "        return True\n",
    "    else:\n",
    "        return False\n",
    "    \n"
   ]
  },
  {
   "cell_type": "code",
   "execution_count": null,
   "id": "22",
   "metadata": {},
   "outputs": [],
   "source": [
    "valid_date(\"1988-05-13\")"
   ]
  },
  {
   "cell_type": "code",
   "execution_count": null,
   "id": "23",
   "metadata": {},
   "outputs": [],
   "source": [
    "def normalize_whitespace(iStr):\n",
    "    oStr = re.sub(r'\\s' , r' ', iStr)\n",
    "    return oStr"
   ]
  },
  {
   "cell_type": "code",
   "execution_count": null,
   "id": "24",
   "metadata": {},
   "outputs": [],
   "source": [
    "def remove_non_alphanumeric(iStr):\n",
    "    oStr = re.sub(r'\\W' , r'', iStr)\n",
    "    return oStr"
   ]
  },
  {
   "cell_type": "code",
   "execution_count": null,
   "id": "25",
   "metadata": {},
   "outputs": [],
   "source": [
    "remove_non_alphanumeric(\"19?¿|88-35-33\")"
   ]
  },
  {
   "cell_type": "code",
   "execution_count": null,
   "id": "26",
   "metadata": {},
   "outputs": [],
   "source": [
    "def valid_email(iStr):\n",
    "    if re.match(r'\\w+@(\\w|\\.)+\\.(edu|com|ord|net)$', iStr) != None:\n",
    "        return True\n",
    "    else: \n",
    "        return False\n"
   ]
  },
  {
   "cell_type": "code",
   "execution_count": null,
   "id": "27",
   "metadata": {},
   "outputs": [],
   "source": [
    "valid_email(\"19@|88-35-33.com\")"
   ]
  },
  {
   "cell_type": "code",
   "execution_count": null,
   "id": "28",
   "metadata": {},
   "outputs": [],
   "source": [
    "valid_email(\"qq@a.com\")"
   ]
  },
  {
   "cell_type": "code",
   "execution_count": null,
   "id": "29",
   "metadata": {},
   "outputs": [],
   "source": []
  }
 ],
 "metadata": {
  "kernelspec": {
   "display_name": "Python 3 (ipykernel)",
   "language": "python",
   "name": "python3"
  },
  "language_info": {
   "codemirror_mode": {
    "name": "ipython",
    "version": 3
   },
   "file_extension": ".py",
   "mimetype": "text/x-python",
   "name": "python",
   "nbconvert_exporter": "python",
   "pygments_lexer": "ipython3",
   "version": "3.9.7"
  }
 },
 "nbformat": 4,
 "nbformat_minor": 5
}
