{
 "cells": [
  {
   "cell_type": "code",
   "execution_count": 1,
   "id": "1887cd1d-3d08-41be-93e1-bfd081e503f2",
   "metadata": {},
   "outputs": [
    {
     "name": "stdout",
     "output_type": "stream",
     "text": [
      "saasdas\n"
     ]
    }
   ],
   "source": [
    "\n",
    "SELECT ?party ?partyLabel ?colorLabel\n",
    "WHERE \n",
    "{\n",
    "  \n",
    "  ?party wdt:P31 wd:Q7278.\n",
    "  \n",
    "  \n",
    "  \n",
    "  ?party wdt:P465 ?srgb.\n",
    "  \n",
    "  ?color wdt:P31  wd:Q1075.\n",
    "  \n",
    "  ?color wdt:P465 ?srgb.\n",
    "  \n",
    "  \n",
    "  \n",
    "  FILTER(?party != wd:Q11284133).\n",
    "  FILTER(?party != wd:Q12019855).\n",
    "  FILTER(?party != wd:Q12020918).\n",
    "  FILTER(?party != wd:Q12038644).\n",
    "  FILTER(?party != wd:Q11284133).\n",
    "  FILTER(?party != wd:Q12019855).\n",
    "  FILTER(?party != wd:Q12020918).\n",
    "  FILTER(?party != wd:Q12038657).\n",
    "  FILTER(?party != wd:Q12038668).\n",
    "  FILTER(?party != wd:Q12042073).\n",
    "  FILTER(?party != wd:Q12056509).\n",
    "  FILTER(?party != wd:Q12056515).\n",
    "  FILTER(?party != wd:Q20104539).\n",
    "  FILTER(?party != wd:Q20619537).\n",
    "  FILTER(?party != wd:Q3366446).\n",
    "  FILTER(?party != wd:Q3394004).\n",
    "  FILTER(?party != wd:Q609548).\n",
    "  FILTER(?party != wd:Q62011148).\n",
    "  FILTER(?party != wd:Q89909916).\n",
    "  FILTER(?party != wd:Q12901869).\n",
    "  FILTER(?party != wd:Q12901869).\n",
    "  FILTER(?party  != wd:Q11177426).\n",
    "  FILTER(?srgb  != \"008000\").\n",
    "  FILTER(?srgb  != \"000000\").\n",
    "  \n",
    "  SERVICE wikibase:label { bd:serviceParam wikibase:language \"en\".}\n",
    "  \n",
    "  }\n",
    "ORDER BY ?partyLabel"
   ]
  },
  {
   "cell_type": "code",
   "execution_count": null,
   "id": "fa8f34bd-d874-4bbd-9e17-53d78ac4d97d",
   "metadata": {},
   "outputs": [],
   "source": []
  }
 ],
 "metadata": {
  "kernelspec": {
   "display_name": "Python 3 (ipykernel)",
   "language": "python",
   "name": "python3"
  },
  "language_info": {
   "codemirror_mode": {
    "name": "ipython",
    "version": 3
   },
   "file_extension": ".py",
   "mimetype": "text/x-python",
   "name": "python",
   "nbconvert_exporter": "python",
   "pygments_lexer": "ipython3",
   "version": "3.9.7"
  }
 },
 "nbformat": 4,
 "nbformat_minor": 5
}
