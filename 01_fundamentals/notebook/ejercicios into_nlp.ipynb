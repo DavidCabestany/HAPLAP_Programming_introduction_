{
 "cells": [
  {
   "cell_type": "code",
   "execution_count": null,
   "id": "0",
   "metadata": {},
   "outputs": [],
   "source": [
    "\n",
    "def cheerleader(pTeam):\n",
    "    rTeam = ''\n",
    "    sTeam = ''\n",
    "    for i in range(len(pTeam)):\n",
    "        sTeam = sTeam + 'Give me a(n) ' + pTeam[i] + ', ' + pTeam[i]+ '!\\n'\n",
    "        #print(sTeam)\n",
    "    rTeam = \"What's that spell?\" + '\\n' + pTeam + '! ' + pTeam +'!'\n",
    "    return sTeam + rTeam"
   ]
  },
  {
   "cell_type": "code",
   "execution_count": null,
   "id": "1",
   "metadata": {},
   "outputs": [],
   "source": [
    "print(cheerleader('hola'))"
   ]
  },
  {
   "cell_type": "code",
   "execution_count": null,
   "id": "2",
   "metadata": {},
   "outputs": [],
   "source": [
    "def lift_only_up(pCur, pTar):\n",
    "    pTar += 1\n",
    "    sTar = ''\n",
    "    for i in range(pCur, pTar):\n",
    "        if pCur < pTar:\n",
    "            sTar = sTar + 'Floor number: ' + str(pCur) + '\\n'\n",
    "            pCur +=1\n",
    "    return sTar"
   ]
  },
  {
   "cell_type": "code",
   "execution_count": null,
   "id": "3",
   "metadata": {},
   "outputs": [],
   "source": [
    "print(lift_only_up(5,10))"
   ]
  },
  {
   "cell_type": "code",
   "execution_count": null,
   "id": "4",
   "metadata": {},
   "outputs": [],
   "source": [
    "def lift_up_and_down(pCur, pTar):\n",
    "    sTar = ''\n",
    "    if pTar <= pCur:\n",
    "        for i in range(pCur, pTar, -1):\n",
    "            #if pCur >= pTar:\n",
    "            sTar = sTar + 'Floor number: ' + str(pCur) + '\\n'\n",
    "            pCur = pCur -1\n",
    "        sTar = sTar + 'Floor number: ' + str(pCur)\n",
    "    if pTar > pCur:\n",
    "        pTar += 1\n",
    "        for i in range(pCur, pTar, 1):\n",
    "            if pCur < pTar:\n",
    "                sTar = sTar + 'Floor number: ' + str(pCur) + '\\n'\n",
    "                pCur +=1\n",
    "        sTar = sTar[:-1]\n",
    "    return sTar\n",
    "    "
   ]
  },
  {
   "cell_type": "code",
   "execution_count": null,
   "id": "5",
   "metadata": {},
   "outputs": [],
   "source": [
    "lift_up_and_down(3,5)"
   ]
  },
  {
   "cell_type": "code",
   "execution_count": null,
   "id": "6",
   "metadata": {},
   "outputs": [],
   "source": [
    "def double_factorial(pNum):\n",
    "    if pNum == 0:\n",
    "        return 1\n",
    "    result = pNum\n",
    "    for i in range(pNum-2,0,-2):\n",
    "        result = result*i\n",
    "    return int(result)\n"
   ]
  },
  {
   "cell_type": "code",
   "execution_count": null,
   "id": "7",
   "metadata": {},
   "outputs": [],
   "source": [
    "double_factorial(10)"
   ]
  },
  {
   "cell_type": "code",
   "execution_count": null,
   "id": "8",
   "metadata": {},
   "outputs": [],
   "source": [
    "def lift_with_while(pCur, pTar):\n",
    "    if pCur < pTar:\n",
    "        sTar = ''\n",
    "        while pTar <= pCur:\n",
    "            sTar = sTar + 'Floor number: ' + str(pCur)\n",
    "            pCur = 10\n",
    "    return sTar\n",
    "    if pCur > pTar:\n",
    "        while pTar < pCur:\n",
    "            print(pCur + 'down')\n",
    "            sTar = sTar + 'Floor number: ' + str(pCur) + '\\n'\n",
    "            pCur-=1\n",
    "        sTar = sTar[:-1]\n",
    "        return sTar"
   ]
  },
  {
   "cell_type": "code",
   "execution_count": null,
   "id": "9",
   "metadata": {},
   "outputs": [],
   "source": [
    "lift_with_while(1, 5)"
   ]
  },
  {
   "cell_type": "code",
   "execution_count": null,
   "id": "10",
   "metadata": {},
   "outputs": [],
   "source": [
    "def lift_with_while(pCur, pTar):\n",
    "    sTar = ''\n",
    "    if pCur < pTar:\n",
    "        #print('up')\n",
    "        while pTar > pCur:\n",
    "            #print(pCur)\n",
    "            sTar = sTar + 'Floor number: ' + str(pCur) + '\\n'\n",
    "            pCur +=1\n",
    "        sTar = sTar + 'Floor number: ' + str(pCur) + '\\n'\n",
    "        return sTar[:-1]\n",
    "    if pCur > pTar:\n",
    "        #print('down')\n",
    "        while pTar < pCur:\n",
    "            #print(str(pCur) + 'down')\n",
    "            sTar = sTar + 'Floor number: ' + str(pCur) + '\\n'\n",
    "            pCur-=1\n",
    "        sTar = sTar + 'Floor number: ' + str(pCur) + '\\n'\n",
    "        return sTar[:-1]"
   ]
  },
  {
   "cell_type": "code",
   "execution_count": null,
   "id": "11",
   "metadata": {},
   "outputs": [],
   "source": [
    "lift_with_while(3, 6)"
   ]
  },
  {
   "cell_type": "code",
   "execution_count": null,
   "id": "12",
   "metadata": {},
   "outputs": [],
   "source": [
    "def guess_game():\n",
    "    pFood = input(\"What is my favourite food?\")\n",
    "    if pFood == 'chocolate':\n",
    "            return 'You guessed it!!!!!!!!!!!'\n",
    "    while pFood != 'chocolate':\n",
    "        print('You are wrong')\n",
    "        pFood = input(\"What is my favourite food?\")    \n",
    "    return 'You guessed it!!!!!!!!!!!'"
   ]
  },
  {
   "cell_type": "code",
   "execution_count": null,
   "id": "13",
   "metadata": {},
   "outputs": [],
   "source": [
    "guess_game()"
   ]
  },
  {
   "cell_type": "code",
   "execution_count": null,
   "id": "14",
   "metadata": {},
   "outputs": [],
   "source": [
    "def guess_game():\n",
    "    gWord = 'chocolate'\n",
    "    pFood = input(\"What is my favourite food?\")\n",
    "    while pFood != gWord:\n",
    "        print('You are wrong')\n",
    "        pFood = input(\"What is my favourite food?\")   \n",
    "    print('You guessed it')\n",
    "    return\n"
   ]
  },
  {
   "cell_type": "code",
   "execution_count": null,
   "id": "15",
   "metadata": {},
   "outputs": [],
   "source": [
    "def look_for_factors(pNum):\n",
    "    result = ''\n",
    "    for i in range(1, pNum+1):\n",
    "        if pNum % i == 0:\n",
    "            result = result + str(i) + '\\n'\n",
    "    return result"
   ]
  },
  {
   "cell_type": "code",
   "execution_count": null,
   "id": "16",
   "metadata": {},
   "outputs": [],
   "source": [
    "look_for_factors(320)"
   ]
  },
  {
   "cell_type": "code",
   "execution_count": null,
   "id": "17",
   "metadata": {},
   "outputs": [],
   "source": [
    "def steps(pLevel):\n",
    "    pStart = pLevel +2\n",
    "    print('__\\n  |')\n",
    "    rDown = '|\\n'\n",
    "    rWidth = ' '\n",
    "    for i in range(pLevel+2):\n",
    "        if i > 2:\n",
    "            rSpace = rWidth*i\n",
    "            print(rSpace+'_'+'\\n'+rSpace+' '+rDown)\n",
    "    return pLevel*'_'"
   ]
  },
  {
   "cell_type": "code",
   "execution_count": null,
   "id": "18",
   "metadata": {},
   "outputs": [],
   "source": [
    "def steps(pLevel):\n",
    "    \n",
    "    pStart = pLevel+2\n",
    "    rStep = '_'\n",
    "    rJump = '\\n'\n",
    "    rDown = '|'\n",
    "    rSpace = ' '\n",
    "    rFinal = rStep*2+rJump\n",
    "    #print(rStep*2+rSpace*2+rJump+rDown+rJump)\n",
    "    if pLevel > 1:\n",
    "        for i in range(pLevel):\n",
    "            i = i*2\n",
    "            rFinal = rFinal + rSpace+rSpace+rSpace*i +rDown + rStep + rJump\n",
    "        return rFinal + rStep*(pLevel*2)+rDown\n",
    "    return rFinal+rStep*2+rDown"
   ]
  },
  {
   "cell_type": "code",
   "execution_count": null,
   "id": "19",
   "metadata": {},
   "outputs": [],
   "source": [
    "steps(4)"
   ]
  },
  {
   "cell_type": "code",
   "execution_count": null,
   "id": "20",
   "metadata": {},
   "outputs": [],
   "source": [
    "def text_info(txt):\n",
    "    txt_lst = txt.split(' ')\n",
    "    txt_len = len(txt)\n",
    "    kuku = 'kuku'\n",
    "    kukus = txt.lower().count('kuku')\n",
    "    kukuak = \"Number of kuku's:\"\n",
    "    count_l = 0\n",
    "    count_u = 0\n",
    "    up = ''\n",
    "    low = ''\n",
    "    both = ''\n",
    "    for ch in txt:\n",
    "        if ch.islower():\n",
    "            count_l += 1\n",
    "        if ch.isupper():\n",
    "            count_u += 1\n",
    "            \n",
    "    if count_u > 0:\n",
    "        up = 'In upper case' \n",
    "    if count_l > 0:\n",
    "        low = 'In lower case'\n",
    "    if count_u > 0 and count_l > 0:\n",
    "        up = ''\n",
    "        low = ''\n",
    "        both = 'Both lower and upper case'\n",
    "    #for word in txt_lst:\n",
    "        #for kuku in word.lower():\n",
    "            #kukus += 1\n",
    "    if int(kukus) == 0:\n",
    "        kukuak = ''\n",
    "        kukus = 'No kuku this way'\n",
    "    return 'Size of the text: ' + str(txt_len) + '\\n' + kukuak + str(kukus) + '\\n' + up + low + both"
   ]
  },
  {
   "cell_type": "code",
   "execution_count": null,
   "id": "21",
   "metadata": {},
   "outputs": [],
   "source": [
    "text_info('kuKu udaberrian kuu')"
   ]
  },
  {
   "cell_type": "code",
   "execution_count": null,
   "id": "22",
   "metadata": {},
   "outputs": [],
   "source": [
    "def broken_keyboard(txt):\n",
    "    a = '%%'\n",
    "    e = '##'\n",
    "    u = '###'\n",
    "    txt = txt.replace(u, 'u')\n",
    "    txt = txt.replace(a, 'a')\n",
    "    txt = txt.replace(e, 'e')\n",
    "    \n",
    "    return txt\n",
    "    "
   ]
  },
  {
   "cell_type": "code",
   "execution_count": null,
   "id": "23",
   "metadata": {},
   "outputs": [],
   "source": [
    "broken_keyboard('I s###dd##nly brok## my k##ybo%%rd')"
   ]
  },
  {
   "cell_type": "code",
   "execution_count": null,
   "id": "24",
   "metadata": {},
   "outputs": [],
   "source": [
    "def language_of_the_word(word):\n",
    "\n",
    "    if word.endswith('tion'):\n",
    "        return 'English'\n",
    "    elif word.endswith('tion'):\n",
    "        return 'English'\n",
    "    elif word.endswith('tion'):\n",
    "        return 'English'\n",
    "    else:\n",
    "        return \"Ups... I don't know!\""
   ]
  },
  {
   "cell_type": "code",
   "execution_count": null,
   "id": "25",
   "metadata": {},
   "outputs": [],
   "source": [
    "language_of_the_word('fuck')"
   ]
  },
  {
   "cell_type": "code",
   "execution_count": null,
   "id": "26",
   "metadata": {},
   "outputs": [],
   "source": [
    "def rainy_days(rainy):\n",
    "    days = rainy.split(' ')\n",
    "    if rainy == '':\n",
    "        return 7\n",
    "    return 7-len(days)"
   ]
  },
  {
   "cell_type": "code",
   "execution_count": null,
   "id": "27",
   "metadata": {},
   "outputs": [],
   "source": [
    "rainy_days('un dos tres')"
   ]
  },
  {
   "cell_type": "code",
   "execution_count": null,
   "id": "28",
   "metadata": {},
   "outputs": [],
   "source": [
    "def order_students_names(names):\n",
    "    rList = ''\n",
    "    or_names = names.split(' ')\n",
    "    or_names.sort()\n",
    "    for el in or_names:\n",
    "        rList = rList + '\\n'+el\n",
    "    return 'List of students:'+rList\n",
    "    "
   ]
  },
  {
   "cell_type": "code",
   "execution_count": null,
   "id": "29",
   "metadata": {},
   "outputs": [],
   "source": [
    "order_students_names('pablo mikel zora')"
   ]
  },
  {
   "cell_type": "code",
   "execution_count": null,
   "id": "30",
   "metadata": {},
   "outputs": [],
   "source": [
    "def palindromes(word):\n",
    "    word = word.replace(' ', '')\n",
    "    drow = word[::-1]\n",
    "    \n",
    "    if word == drow:\n",
    "        return 'Good!!'\n",
    "    if word != drow:\n",
    "        return 'No, you missed it...'"
   ]
  },
  {
   "cell_type": "code",
   "execution_count": null,
   "id": "31",
   "metadata": {},
   "outputs": [],
   "source": [
    "palindromes('akarraka')"
   ]
  },
  {
   "cell_type": "code",
   "execution_count": null,
   "id": "32",
   "metadata": {},
   "outputs": [],
   "source": [
    "def total_spent(nums):\n",
    "    nums = nums.split(' ')\n",
    "    rSum = 0\n",
    "    for el in nums:\n",
    "        rSum = rSum + int(el)\n",
    "    return rSum"
   ]
  },
  {
   "cell_type": "code",
   "execution_count": null,
   "id": "33",
   "metadata": {},
   "outputs": [],
   "source": [
    "total_spent('8 12 15 16 12 1')"
   ]
  },
  {
   "cell_type": "code",
   "execution_count": null,
   "id": "34",
   "metadata": {},
   "outputs": [],
   "source": [
    "def how_many_words(rWord):\n",
    "    words = input('')\n",
    "    new_words = []\n",
    "    rList = []\n",
    "    while words != '':\n",
    "        rList.append(words)\n",
    "        words = input('')\n",
    "    for word in rList:\n",
    "        if word not in new_words:\n",
    "            new_words.append(word)\n",
    "    return len(new_words)"
   ]
  },
  {
   "cell_type": "code",
   "execution_count": null,
   "id": "35",
   "metadata": {},
   "outputs": [],
   "source": [
    "how_many_words('')"
   ]
  },
  {
   "cell_type": "code",
   "execution_count": null,
   "id": "36",
   "metadata": {},
   "outputs": [],
   "source": [
    "def red_and_blue_cars(cars):\n",
    "    rCars = cars.split(' ')\n",
    "    blue = 0\n",
    "    red = 0\n",
    "    \n",
    "    for car in rCars:\n",
    "        if car == 'blue':\n",
    "            blue += 1\n",
    "        if car == 'red':\n",
    "            red += 1\n",
    "        \n",
    "    return red,blue"
   ]
  },
  {
   "cell_type": "code",
   "execution_count": null,
   "id": "37",
   "metadata": {},
   "outputs": [],
   "source": [
    "red_and_blue_cars('red gred grey blue')"
   ]
  },
  {
   "cell_type": "code",
   "execution_count": null,
   "id": "38",
   "metadata": {},
   "outputs": [],
   "source": [
    "def secret_message(pMessage):\n",
    "    message = pMessage.split(' ')\n",
    "    rSecret = []\n",
    "    for word in message:\n",
    "        if word[0].isupper():\n",
    "            rSecret.append(word)\n",
    "    rSecret.reverse()\n",
    "    #rSecret = str(rSecret)\n",
    "    rFin = ''\n",
    "    for el in rSecret:\n",
    "        rFin = rFin + ' ' + el\n",
    "    \n",
    "    return rFin.lower().strip()"
   ]
  },
  {
   "cell_type": "code",
   "execution_count": null,
   "id": "39",
   "metadata": {},
   "outputs": [],
   "source": [
    "secret_message(\"tHIs PrOGRam teACheS To LeaRN pYThOn To cATs\")"
   ]
  },
  {
   "cell_type": "code",
   "execution_count": null,
   "id": "40",
   "metadata": {},
   "outputs": [],
   "source": [
    "def super_anagrams(word1, word2):\n",
    "    if word1[0] == word2[0] and word1[-1] == word2[-1] and len(word1) == len(word2):\n",
    "        return 'Super Anagram!'\n",
    "    else:\n",
    "        return 'What?'"
   ]
  },
  {
   "cell_type": "code",
   "execution_count": null,
   "id": "41",
   "metadata": {},
   "outputs": [],
   "source": [
    "\n",
    "\n"
   ]
  },
  {
   "cell_type": "code",
   "execution_count": null,
   "id": "42",
   "metadata": {},
   "outputs": [],
   "source": [
    "def average(x,y,z):\n",
    "    rSum = 0\n",
    "    rSum =  (x)+(y)+(z)\n",
    "    rAve = rSum/3\n",
    "    return rAve"
   ]
  },
  {
   "cell_type": "code",
   "execution_count": null,
   "id": "43",
   "metadata": {},
   "outputs": [],
   "source": [
    "average(-5,-7,3)"
   ]
  },
  {
   "cell_type": "code",
   "execution_count": null,
   "id": "44",
   "metadata": {},
   "outputs": [],
   "source": [
    "def average(x,y,z):\n",
    "    rSum = 0\n",
    "    rSum =  x+y+z\n",
    "    rAve = rSum/3\n",
    "    return rAve\n",
    "\n",
    "def middle_number(x,y,z):\n",
    "    rList = []\n",
    "    rList.append(x)\n",
    "    rList.append(y)\n",
    "    rList.append(z)\n",
    "    rList.sort()\n",
    "    return rList[1]\n",
    "\n",
    "def str_odd(x):\n",
    "    if x % 2 == 1:\n",
    "        return 'odd'\n",
    "    else:\n",
    "        return 'even'\n",
    "\n",
    "def number_info(strn):\n",
    "    nums = strn.split(' ')\n",
    "    x = int(nums[0])\n",
    "    y = int(nums[1])\n",
    "    z = int(nums[2])\n",
    "\n",
    "    num_ave = average(x,y,z)\n",
    "    mid_num = middle_number(x,y,z)\n",
    "    odd = str_odd(mid_num)\n",
    "    return 'The average of the three numbers: ' + str(num_ave) +'\\n' + 'Middle number: '+ str(mid_num) + '\\nIt is ' + odd\n",
    "   \n",
    "    "
   ]
  },
  {
   "cell_type": "code",
   "execution_count": null,
   "id": "45",
   "metadata": {},
   "outputs": [],
   "source": [
    "number_info('2 6 4')"
   ]
  },
  {
   "cell_type": "code",
   "execution_count": null,
   "id": "46",
   "metadata": {},
   "outputs": [],
   "source": [
    "def str_odd(x,y,z):\n",
    "    if x % 2 == 1 and y % 2 == 1 and z % 2 == 1:\n",
    "        return 'It is odd'\n",
    "    else:\n",
    "        return 'It is even'"
   ]
  },
  {
   "cell_type": "code",
   "execution_count": null,
   "id": "47",
   "metadata": {},
   "outputs": [],
   "source": [
    "str_odd(3,5,4)"
   ]
  },
  {
   "cell_type": "code",
   "execution_count": null,
   "id": "48",
   "metadata": {},
   "outputs": [],
   "source": [
    "def number_info(strn):\n",
    "    nums = strn.split(' ')\n",
    "    x = int(nums[0])\n",
    "    y = int(nums[1])\n",
    "    z = int(nums[2])\n",
    "\n",
    "    num_ave = average(x,y,z)\n",
    "    mid_num = middle_number(x,y,z)\n",
    "    odd = str_odd(mid_num)\n",
    "    return 'The average of the three numbers: ' + str(num_ave) +'\\n' + 'Middle number: '+ str(mid_num) + '\\nIt is ' + odd\n",
    "   "
   ]
  },
  {
   "cell_type": "code",
   "execution_count": null,
   "id": "49",
   "metadata": {},
   "outputs": [],
   "source": [
    "number_info(-5,-7,3)"
   ]
  },
  {
   "cell_type": "markdown",
   "id": "50",
   "metadata": {},
   "source": [
    "## Dictionaries and files\n",
    "### Word2SMS"
   ]
  },
  {
   "cell_type": "code",
   "execution_count": null,
   "id": "51",
   "metadata": {},
   "outputs": [],
   "source": [
    "def word2sms(word:str):\n",
    "    rFin = ''\n",
    "    dos = ('a', 'b', 'c')\n",
    "    tres = ('d', 'e', 'f')\n",
    "    cuatro = ('g', 'h', 'i')\n",
    "    cinco = ('j', 'k', 'l')\n",
    "    seis = ('m', 'n', 'o')\n",
    "    siete = ('p', 'q', 'r', 's')\n",
    "    ocho = ('t', 'u', 'v')\n",
    "    nueve = ('w', 'x', 'y', 'z')\n",
    "    Dos = dict.fromkeys(dos, '2')\n",
    "    Tres = dict.fromkeys(tres, '3')\n",
    "    Cuatro = dict.fromkeys(cuatro, '4')\n",
    "    Cinco = dict.fromkeys(cinco, '5')\n",
    "    Seis = dict.fromkeys(seis, '6')\n",
    "    Siete = dict.fromkeys(siete, '7')\n",
    "    Ocho = dict.fromkeys(ocho, '8')\n",
    "    Nueve = dict.fromkeys(nueve, '9')\n",
    "    dic = {**Dos, **Tres, **Cuatro, **Cinco, **Seis, **Siete, **Ocho, **Nueve}\n",
    "    for ch in word.lower():\n",
    "        ch = dic.get(ch)\n",
    "        rFin += ch\n",
    "    return rFin"
   ]
  },
  {
   "cell_type": "code",
   "execution_count": null,
   "id": "52",
   "metadata": {},
   "outputs": [],
   "source": [
    "word2sms('Kaixo')"
   ]
  },
  {
   "cell_type": "code",
   "execution_count": null,
   "id": "53",
   "metadata": {},
   "outputs": [],
   "source": [
    "def favourite_colour():\n",
    "    usr_inp = input('')\n",
    "    #register = {}\n",
    "    rStr = ''\n",
    "    lst = []\n",
    "    while usr_inp != '':\n",
    "        usr_inp = usr_inp.split(' ')\n",
    "        List = usr_inp[0] , usr_inp[1]\n",
    "        lst.append(List)\n",
    "        usr_inp = input('')\n",
    "    lst.sort()\n",
    "    for pak in lst:\n",
    "        rStr.strip()\n",
    "        rStr += '\\n'\n",
    "        for i in pak:\n",
    "            rStr += str(i) + ' '\n",
    "    return rStr.strip()"
   ]
  },
  {
   "cell_type": "code",
   "execution_count": null,
   "id": "54",
   "metadata": {},
   "outputs": [],
   "source": [
    "favourite_colour()"
   ]
  },
  {
   "cell_type": "code",
   "execution_count": null,
   "id": "55",
   "metadata": {},
   "outputs": [],
   "source": [
    "def prueba():\n",
    "    rFin = ''\n",
    "    dos = ('a', 'b', 'c')\n",
    "    tres = ('d', 'e', 'f')\n",
    "    cuatro = ('g', 'h', 'i')\n",
    "    cinco = ('j', 'k', 'l')\n",
    "    seis = ('m', 'n', 'o')\n",
    "    siete = ('p', 'q', 'r', 's')\n",
    "    ocho = ('t', 'u', 'v')\n",
    "    nueve = ('w', 'x', 'y', 'z')\n",
    "    Dos = dict.fromkeys(dos, '2')\n",
    "    Tres = dict.fromkeys(tres, '3')\n",
    "    Cuatro = dict.fromkeys(cuatro, '4')\n",
    "    Cinco = dict.fromkeys(cinco, '5')\n",
    "    Seis = dict.fromkeys(seis, '6')\n",
    "    Siete = dict.fromkeys(siete, '7')\n",
    "    Ocho = dict.fromkeys(ocho, '8')\n",
    "    Nueve = dict.fromkeys(nueve, '9')\n",
    "    dic = {**Dos, **Tres, **Cuatro, **Cinco, **Seis, **Siete, **Ocho, **Nueve}\n",
    "    return str(dic)"
   ]
  },
  {
   "cell_type": "code",
   "execution_count": null,
   "id": "56",
   "metadata": {},
   "outputs": [],
   "source": [
    "prueba()"
   ]
  },
  {
   "cell_type": "code",
   "execution_count": null,
   "id": "57",
   "metadata": {},
   "outputs": [],
   "source": [
    "def favourite_colour():\n",
    "    colours = {}\n",
    "    rStr = ''\n",
    "    usr_inp = input('')\n",
    "    while usr_inp != '':\n",
    "        name, colour = usr_inp.split(' ')\n",
    "        \n",
    "        colours[name] = colour\n",
    "        #rStr += str(name) + ' ' + str(colour) + '\\n'\n",
    "        usr_inp = input('')\n",
    "    #ColorSort = sorted(colours)\n",
    "    for name in sorted(colours):\n",
    "        rStr += name + ' ' + colours[name] + '\\n'\n",
    "            #rStr += str(el) + ' ' + str(i) + '\\n'\n",
    "    return rStr.strip()\n",
    "        "
   ]
  },
  {
   "cell_type": "code",
   "execution_count": null,
   "id": "58",
   "metadata": {},
   "outputs": [],
   "source": [
    "favourite_colour()\n"
   ]
  },
  {
   "cell_type": "code",
   "execution_count": null,
   "id": "59",
   "metadata": {},
   "outputs": [],
   "source": [
    "def cars_colours():\n",
    "    cars = {}\n",
    "    rStr = ''\n",
    "    usr_inp = input('')\n",
    "    while usr_inp != '':\n",
    "        if usr_inp in cars:\n",
    "            cars[usr_inp] += 1\n",
    "        else:\n",
    "            cars[usr_inp] = 1\n",
    "        usr_inp = input('')\n",
    "    for car in  sorted(cars):\n",
    "        rStr =+ car + ' ' + cars[car] + '\\n'\n",
    "    return rStr"
   ]
  },
  {
   "cell_type": "code",
   "execution_count": null,
   "id": "60",
   "metadata": {},
   "outputs": [],
   "source": [
    "cars_colours()"
   ]
  },
  {
   "cell_type": "code",
   "execution_count": null,
   "id": "61",
   "metadata": {},
   "outputs": [],
   "source": [
    "def words_frequency():\n",
    "    words = {}\n",
    "    rStr = ''\n",
    "    usr_inp = input('')\n",
    "    while usr_inp != '':\n",
    "        for i in usr_inp.split(' '):\n",
    "            if i in words:\n",
    "                words[i] += 1\n",
    "            else:\n",
    "                words[i] = 1\n",
    "        usr_inp = input('')\n",
    "    for word in sorted(words, reverse = True):\n",
    "        rStr += word + ' ' + str(words[word]) + '\\n'\n",
    "    return rStr.strip()"
   ]
  },
  {
   "cell_type": "code",
   "execution_count": null,
   "id": "62",
   "metadata": {},
   "outputs": [],
   "source": [
    "def shout_request(path):\n",
    "    rStr = ''\n",
    "    file = open(path)\n",
    "    for line in file:\n",
    "        rStr += line.upper()\n",
    "    return rStr\n",
    "        "
   ]
  },
  {
   "cell_type": "code",
   "execution_count": null,
   "id": "63",
   "metadata": {},
   "outputs": [],
   "source": [
    "def word_in_the_book(path, word):\n",
    "    rStr = ''\n",
    "    file = open(path)\n",
    "    count_w = 0\n",
    "    count_l = 0\n",
    "    for line in file:\n",
    "        count_l += 1\n",
    "        if word in line:\n",
    "            count_w = line.count(word)\n",
    "            rStr += 'Found in line: ' + str(count_l) + '\\n'\n",
    "    if count_w == 0:\n",
    "        return 'Not found'\n",
    "    file.close()\n",
    "\n",
    "    return rStr "
   ]
  },
  {
   "cell_type": "code",
   "execution_count": null,
   "id": "64",
   "metadata": {},
   "outputs": [],
   "source": [
    "word_in_the_book(\"../data/book.txt\",\"eder\")"
   ]
  },
  {
   "cell_type": "code",
   "execution_count": null,
   "id": "65",
   "metadata": {},
   "outputs": [],
   "source": [
    "def spanish_elephant_in_file(path):\n",
    "    rStr = ''\n",
    "    file = open(path)\n",
    "    \n",
    "    count_l = 0\n",
    "    for line in file:\n",
    "        count_l += 1\n",
    "        if line.count('e') > 2 and line.count('l') > 0 and line.lower().count('f') > 0 and line.count('a') > 0 and line.count('n') > 0 and line.count('t') > 0:\n",
    "            rStr += 'Spanish elephant in this line: ' + str(count_l) + '\\n'\n",
    "    file.close()\n",
    "\n",
    "    return rStr "
   ]
  },
  {
   "cell_type": "code",
   "execution_count": null,
   "id": "66",
   "metadata": {},
   "outputs": [],
   "source": [
    "spanish_elephant_in_file(\"../data/sayings.txt\")"
   ]
  },
  {
   "cell_type": "code",
   "execution_count": null,
   "id": "67",
   "metadata": {},
   "outputs": [],
   "source": []
  },
  {
   "cell_type": "code",
   "execution_count": null,
   "id": "68",
   "metadata": {},
   "outputs": [],
   "source": [
    "def scrabble_game(word):\n",
    "    eus = open('../data/points_eu.txt')\n",
    "    eng = open('../data/points_en.txt')\n",
    "    \n",
    "    eus_dic = {}\n",
    "    eng_dic = {}\n",
    "    \n",
    "    eus_score = 0\n",
    "    eng_score = 0\n",
    "    \n",
    "    for line in eus:\n",
    "        key, value = line.split()\n",
    "        eus_dic[value.lower()] = int(key)\n",
    "    \n",
    "    for line in eng:\n",
    "        key, value = line.split()\n",
    "        eng_dic[value.lower()] = int(key)\n",
    "    \n",
    "    for char in word:\n",
    "        eus_score += eus_dic.get(char)\n",
    "        \n",
    "    for char in word:\n",
    "        eng_score += eng_dic.get(char)\n",
    "        \n",
    "        \n",
    "    return  eus_score, eng_score\n",
    "    "
   ]
  },
  {
   "cell_type": "code",
   "execution_count": null,
   "id": "69",
   "metadata": {},
   "outputs": [],
   "source": [
    "scrabble_game('kaixo')"
   ]
  },
  {
   "cell_type": "code",
   "execution_count": null,
   "id": "70",
   "metadata": {},
   "outputs": [],
   "source": [
    "def usernames(path):\n",
    "    import csv\n",
    "    \n",
    "    usr_lst = open(path, 'r')\n",
    "    header = next(usr_lst)\n",
    "\n",
    "    usr_DB = []\n",
    "    \n",
    "    count = 0\n",
    "    rStr = ''\n",
    "    f_name_s = ''\n",
    "    f_name_c = ''\n",
    "    midName = ''\n",
    "    \n",
    "    if header != None:\n",
    "        for row in usr_lst:\n",
    "            f_name, surname = row.split(' ', 1)\n",
    "            f_name.lower()\n",
    "            surname.lower()\n",
    "            if '\"' in f_name and '\"' in surname:\n",
    "                f_name, midName, surname = row.split(' ')\n",
    "                f_name += midName\n",
    "            if f_name not in usr_DB:\n",
    "                usr_DB.append(f_name)\n",
    "            elif f_name in usr_DB:\n",
    "                f_name += surname[0]\n",
    "                f_name_s = f_name\n",
    "                f_name_c = f_name_s\n",
    "                if f_name_s in usr_DB:\n",
    "                    while f_name_c in usr_DB:\n",
    "                        count+=1\n",
    "                        f_name_c = f_name_s + str(count)\n",
    "                    count = 0\n",
    "                    usr_DB.append(f_name_c)\n",
    "                else:\n",
    "                    usr_DB.append(f_name_s)\n",
    "        for el in usr_DB:\n",
    "            rStr += el + '\\n'\n",
    "    return rStr.lower().strip().replace('\"', '')\n"
   ]
  },
  {
   "cell_type": "code",
   "execution_count": null,
   "id": "71",
   "metadata": {},
   "outputs": [],
   "source": [
    "usernames('../data/class_list.csv')"
   ]
  },
  {
   "cell_type": "code",
   "execution_count": null,
   "id": "72",
   "metadata": {},
   "outputs": [],
   "source": [
    "def londons_weather(temp :int, iPath :str, oPath:str):\n",
    "    import pandas as pd\n",
    "    \n",
    "    iFile = pd.read_csv(iPath, sep = '\\t')\n",
    "     \n",
    "    temp_av= 0\n",
    "    t_entry = 0\n",
    "    s_rain = 0\n",
    "    wind_av = 0\n",
    "    \n",
    "    for index, value in iFile.iterrows():\n",
    "        if value['Temperature'] >= temp:\n",
    "            temp_av += value['Temperature']\n",
    "            t_entry +=1\n",
    "            s_rain += value['Precipitation']\n",
    "            wind_av += value['Wind-speed']\n",
    "    \n",
    "    temp_av = temp_av/t_entry\n",
    "    wind_av = wind_av/t_entry\n",
    "    outFile = open(oPath, 'w')\n",
    "    \n",
    "    txt1 = \"Total entries: {}\\nAverage temperature: {}\\nTotal precipitation: {}\\nAverage wind-speed: {}\".format(t_entry,\n",
    "                                                                                                               round(temp_av, 2), \n",
    "                                                                                                               round(s_rain, 2), \n",
    "                                                                                                               round(wind_av, 2))\n",
    "    \n",
    "    oFile = iFile[['Year','Month', 'Day', 'Temperature', 'Precipitation', 'Wind-speed']]\n",
    "    df_tail = iFile[['Temperature', 'Precipitation', 'Wind-speed']]\n",
    "    \n",
    "    df_head = oFile.assign(Date = oFile.Year.astype(str) + '-' + oFile.Month.astype(str) + '- ' + oFile.Day.astype(str))\n",
    "    output = pd.concat([df_head, df_tail], ignore_index=True, sort=False)\n",
    "    output = output[['Date', 'Temperature', 'Precipitation', 'Wind-speed']]\n",
    "    \n",
    "    output.to_csv(oPath, sep='\\t', index=False)\n",
    "    \n",
    "    return txt1.strip()\n",
    "    "
   ]
  },
  {
   "cell_type": "code",
   "execution_count": null,
   "id": "73",
   "metadata": {},
   "outputs": [],
   "source": []
  },
  {
   "cell_type": "code",
   "execution_count": null,
   "id": "74",
   "metadata": {},
   "outputs": [],
   "source": []
  },
  {
   "cell_type": "code",
   "execution_count": null,
   "id": "75",
   "metadata": {},
   "outputs": [],
   "source": []
  }
 ],
 "metadata": {
  "kernelspec": {
   "display_name": "Python 3",
   "language": "python",
   "name": "python3"
  },
  "language_info": {
   "codemirror_mode": {
    "name": "ipython",
    "version": 3
   },
   "file_extension": ".py",
   "mimetype": "text/x-python",
   "name": "python",
   "nbconvert_exporter": "python",
   "pygments_lexer": "ipython3",
   "version": "3.8.8"
  }
 },
 "nbformat": 4,
 "nbformat_minor": 5
}
