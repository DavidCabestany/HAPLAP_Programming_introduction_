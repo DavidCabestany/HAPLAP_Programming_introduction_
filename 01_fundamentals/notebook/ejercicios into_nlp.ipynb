{
 "cells": [
  {
   "cell_type": "code",
   "execution_count": 41,
   "id": "8dc63280-722c-4853-9a92-715a11bf0bf7",
   "metadata": {},
   "outputs": [],
   "source": [
    "\n",
    "def cheerleader(pTeam):\n",
    "    rTeam = ''\n",
    "    sTeam = ''\n",
    "    for i in range(len(pTeam)):\n",
    "        sTeam = sTeam + 'Give me a(n) ' + pTeam[i] + ', ' + pTeam[i]+ '!\\n'\n",
    "        #print(sTeam)\n",
    "    rTeam = \"What's that spell?\" + '\\n' + pTeam + '! ' + pTeam +'!'\n",
    "    return sTeam + rTeam"
   ]
  },
  {
   "cell_type": "code",
   "execution_count": 42,
   "id": "3f12bef9-b5d5-4150-943d-bcb8f4348b3a",
   "metadata": {},
   "outputs": [
    {
     "name": "stdout",
     "output_type": "stream",
     "text": [
      "Give me a(n) h, h!\n",
      "Give me a(n) o, o!\n",
      "Give me a(n) l, l!\n",
      "Give me a(n) a, a!\n",
      "What's that spell?\n",
      "hola! hola!\n"
     ]
    }
   ],
   "source": [
    "print(cheerleader('hola'))"
   ]
  },
  {
   "cell_type": "code",
   "execution_count": 59,
   "id": "4a0d0feb-12af-4e38-868c-92c846266cbd",
   "metadata": {},
   "outputs": [],
   "source": [
    "def lift_only_up(pCur, pTar):\n",
    "    pTar += 1\n",
    "    sTar = ''\n",
    "    for i in range(pCur, pTar):\n",
    "        if pCur < pTar:\n",
    "            sTar = sTar + 'Floor number: ' + str(pCur) + '\\n'\n",
    "            pCur +=1\n",
    "    return sTar"
   ]
  },
  {
   "cell_type": "code",
   "execution_count": 60,
   "id": "c09db7a8-fe43-468a-b7e5-20f9a02a8bcf",
   "metadata": {},
   "outputs": [
    {
     "name": "stdout",
     "output_type": "stream",
     "text": [
      "Floor number: 5\n",
      "Floor number: 6\n",
      "Floor number: 7\n",
      "Floor number: 8\n",
      "Floor number: 9\n",
      "Floor number: 10\n",
      "\n"
     ]
    }
   ],
   "source": [
    "print(lift_only_up(5,10))"
   ]
  },
  {
   "cell_type": "code",
   "execution_count": 96,
   "id": "bbb14a3e-f15a-4b58-9334-cf0b2cac3622",
   "metadata": {},
   "outputs": [],
   "source": [
    "def lift_up_and_down(pCur, pTar):\n",
    "    sTar = ''\n",
    "    if pTar <= pCur:\n",
    "        for i in range(pCur, pTar, -1):\n",
    "            #if pCur >= pTar:\n",
    "            sTar = sTar + 'Floor number: ' + str(pCur) + '\\n'\n",
    "            pCur = pCur -1\n",
    "        sTar = sTar + 'Floor number: ' + str(pCur)\n",
    "    if pTar > pCur:\n",
    "        pTar += 1\n",
    "        for i in range(pCur, pTar, 1):\n",
    "            if pCur < pTar:\n",
    "                sTar = sTar + 'Floor number: ' + str(pCur) + '\\n'\n",
    "                pCur +=1\n",
    "        sTar = sTar[:-1]\n",
    "    return sTar\n",
    "    "
   ]
  },
  {
   "cell_type": "code",
   "execution_count": 97,
   "id": "fb8f604b-d4b7-4b56-8c20-0fdc5ac8f220",
   "metadata": {},
   "outputs": [
    {
     "data": {
      "text/plain": [
       "'Floor number: 3\\nFloor number: 4\\nFloor number: 5'"
      ]
     },
     "execution_count": 97,
     "metadata": {},
     "output_type": "execute_result"
    }
   ],
   "source": [
    "lift_up_and_down(3,5)"
   ]
  },
  {
   "cell_type": "code",
   "execution_count": 33,
   "id": "4afa1fba-7a8c-4b99-8618-c794d7e19841",
   "metadata": {},
   "outputs": [],
   "source": [
    "def double_factorial(pNum):\n",
    "    if pNum == 0:\n",
    "        return 1\n",
    "    result = pNum\n",
    "    for i in range(pNum-2,0,-2):\n",
    "        result = result*i\n",
    "    return int(result)\n"
   ]
  },
  {
   "cell_type": "code",
   "execution_count": 34,
   "id": "cded6bc3-c558-4f20-92b9-b652c9d5d25e",
   "metadata": {},
   "outputs": [
    {
     "data": {
      "text/plain": [
       "3840"
      ]
     },
     "execution_count": 34,
     "metadata": {},
     "output_type": "execute_result"
    }
   ],
   "source": [
    "double_factorial(10)"
   ]
  },
  {
   "cell_type": "code",
   "execution_count": 28,
   "id": "0a873f03-f4c5-4279-9d59-f7ab5c22e0cc",
   "metadata": {},
   "outputs": [],
   "source": [
    "def lift_with_while(pCur, pTar):\n",
    "    if pCur < pTar:\n",
    "        sTar = ''\n",
    "        while pTar <= pCur:\n",
    "            sTar = sTar + 'Floor number: ' + str(pCur)\n",
    "            pCur = 10\n",
    "    return sTar\n",
    "    if pCur > pTar:\n",
    "        while pTar < pCur:\n",
    "            print(pCur + 'down')\n",
    "            sTar = sTar + 'Floor number: ' + str(pCur) + '\\n'\n",
    "            pCur-=1\n",
    "        sTar = sTar[:-1]\n",
    "        return sTar"
   ]
  },
  {
   "cell_type": "code",
   "execution_count": 30,
   "id": "2d2ea103-5573-4800-addf-8d01830a2bae",
   "metadata": {},
   "outputs": [
    {
     "data": {
      "text/plain": [
       "''"
      ]
     },
     "execution_count": 30,
     "metadata": {},
     "output_type": "execute_result"
    }
   ],
   "source": [
    "lift_with_while(1, 5)"
   ]
  },
  {
   "cell_type": "code",
   "execution_count": 27,
   "id": "b1fe7e56-d44b-4e0a-a9a3-e548ad71ffd2",
   "metadata": {},
   "outputs": [],
   "source": [
    "def lift_with_while(pCur, pTar):\n",
    "    sTar = ''\n",
    "    if pCur < pTar:\n",
    "        #print('up')\n",
    "        while pTar > pCur:\n",
    "            #print(pCur)\n",
    "            sTar = sTar + 'Floor number: ' + str(pCur) + '\\n'\n",
    "            pCur +=1\n",
    "        sTar = sTar + 'Floor number: ' + str(pCur) + '\\n'\n",
    "        return sTar[:-1]\n",
    "    if pCur > pTar:\n",
    "        #print('down')\n",
    "        while pTar < pCur:\n",
    "            #print(str(pCur) + 'down')\n",
    "            sTar = sTar + 'Floor number: ' + str(pCur) + '\\n'\n",
    "            pCur-=1\n",
    "        sTar = sTar + 'Floor number: ' + str(pCur) + '\\n'\n",
    "        return sTar[:-1]"
   ]
  },
  {
   "cell_type": "code",
   "execution_count": 28,
   "id": "ce182265-575d-478a-ba81-c49f8b4f7ba6",
   "metadata": {},
   "outputs": [
    {
     "data": {
      "text/plain": [
       "'Floor number: 3\\nFloor number: 4\\nFloor number: 5\\nFloor number: 6'"
      ]
     },
     "execution_count": 28,
     "metadata": {},
     "output_type": "execute_result"
    }
   ],
   "source": [
    "lift_with_while(3, 6)"
   ]
  },
  {
   "cell_type": "code",
   "execution_count": 58,
   "id": "b2a0f5f4-9dd3-47be-af8d-aef8e4d043c2",
   "metadata": {},
   "outputs": [],
   "source": [
    "def guess_game():\n",
    "    pFood = input(\"What is my favourite food?\")\n",
    "    if pFood == 'chocolate':\n",
    "            return 'You guessed it!!!!!!!!!!!'\n",
    "    while pFood != 'chocolate':\n",
    "        print('You are wrong')\n",
    "        pFood = input(\"What is my favourite food?\")    \n",
    "    return 'You guessed it!!!!!!!!!!!'"
   ]
  },
  {
   "cell_type": "code",
   "execution_count": 62,
   "id": "841d76a7-1349-4c27-be77-7bc4b9ff1434",
   "metadata": {},
   "outputs": [
    {
     "name": "stdin",
     "output_type": "stream",
     "text": [
      "What is my favourite food? nata\n"
     ]
    },
    {
     "name": "stdout",
     "output_type": "stream",
     "text": [
      "You are wrong\n"
     ]
    },
    {
     "name": "stdin",
     "output_type": "stream",
     "text": [
      "What is my favourite food? excrements\n"
     ]
    },
    {
     "name": "stdout",
     "output_type": "stream",
     "text": [
      "You are wrong\n"
     ]
    },
    {
     "name": "stdin",
     "output_type": "stream",
     "text": [
      "What is my favourite food? nata\n"
     ]
    },
    {
     "name": "stdout",
     "output_type": "stream",
     "text": [
      "You are wrong\n"
     ]
    },
    {
     "name": "stdin",
     "output_type": "stream",
     "text": [
      "What is my favourite food? chocolate\n"
     ]
    },
    {
     "name": "stdout",
     "output_type": "stream",
     "text": [
      "You guessed it\n"
     ]
    }
   ],
   "source": [
    "guess_game()"
   ]
  },
  {
   "cell_type": "code",
   "execution_count": 60,
   "id": "509d120d-9259-45ed-9481-9def62824f9f",
   "metadata": {},
   "outputs": [],
   "source": [
    "def guess_game():\n",
    "    gWord = 'chocolate'\n",
    "    pFood = input(\"What is my favourite food?\")\n",
    "    while pFood != gWord:\n",
    "        print('You are wrong')\n",
    "        pFood = input(\"What is my favourite food?\")   \n",
    "    print('You guessed it')\n",
    "    return\n"
   ]
  },
  {
   "cell_type": "code",
   "execution_count": 83,
   "id": "0be2c04b-7261-452a-b1a5-43504f590294",
   "metadata": {},
   "outputs": [],
   "source": [
    "def look_for_factors(pNum):\n",
    "    result = ''\n",
    "    for i in range(1, pNum+1):\n",
    "        if pNum % i == 0:\n",
    "            result = result + str(i) + '\\n'\n",
    "    return result"
   ]
  },
  {
   "cell_type": "code",
   "execution_count": 84,
   "id": "4c9f6f2e-1408-48b4-8ab8-45b0580ca9c5",
   "metadata": {},
   "outputs": [
    {
     "data": {
      "text/plain": [
       "'1\\n2\\n4\\n5\\n8\\n10\\n16\\n20\\n32\\n40\\n64\\n80\\n160\\n320\\n'"
      ]
     },
     "execution_count": 84,
     "metadata": {},
     "output_type": "execute_result"
    }
   ],
   "source": [
    "look_for_factors(320)"
   ]
  },
  {
   "cell_type": "code",
   "execution_count": 169,
   "id": "ae831071-e0e6-4371-bc05-3528a96fe3b6",
   "metadata": {},
   "outputs": [],
   "source": [
    "def steps(pLevel):\n",
    "    pStart = pLevel +2\n",
    "    print('__\\n  |')\n",
    "    rDown = '|\\n'\n",
    "    rWidth = ' '\n",
    "    for i in range(pLevel+2):\n",
    "        if i > 2:\n",
    "            rSpace = rWidth*i\n",
    "            print(rSpace+'_'+'\\n'+rSpace+' '+rDown)\n",
    "    return pLevel*'_'"
   ]
  },
  {
   "cell_type": "code",
   "execution_count": 252,
   "id": "36c894d9-0bab-4e7f-b624-4c6c2cae5c2e",
   "metadata": {},
   "outputs": [],
   "source": [
    "def steps(pLevel):\n",
    "    \n",
    "    pStart = pLevel+2\n",
    "    rStep = '_'\n",
    "    rJump = '\\n'\n",
    "    rDown = '|'\n",
    "    rSpace = ' '\n",
    "    rFinal = rStep*2+rJump\n",
    "    #print(rStep*2+rSpace*2+rJump+rDown+rJump)\n",
    "    if pLevel > 1:\n",
    "        for i in range(pLevel):\n",
    "            i = i*2\n",
    "            rFinal = rFinal + rSpace+rSpace+rSpace*i +rDown + rStep + rJump\n",
    "        return rFinal + rStep*(pLevel*2)+rDown\n",
    "    return rFinal+rStep*2+rDown"
   ]
  },
  {
   "cell_type": "code",
   "execution_count": 253,
   "id": "3ca84fa6-e16b-47df-9a67-09e6283a7bd4",
   "metadata": {},
   "outputs": [
    {
     "data": {
      "text/plain": [
       "'__\\n  |_\\n    |_\\n      |_\\n        |_\\n________|'"
      ]
     },
     "execution_count": 253,
     "metadata": {},
     "output_type": "execute_result"
    }
   ],
   "source": [
    "steps(4)"
   ]
  },
  {
   "cell_type": "code",
   "execution_count": 348,
   "id": "ac5934a5-725e-4e06-a92b-83d3f98aac25",
   "metadata": {},
   "outputs": [],
   "source": [
    "def text_info(txt):\n",
    "    txt_lst = txt.split(' ')\n",
    "    txt_len = len(txt)\n",
    "    kuku = 'kuku'\n",
    "    kukus = txt.lower().count('kuku')\n",
    "    kukuak = \"Number of kuku's:\"\n",
    "    count_l = 0\n",
    "    count_u = 0\n",
    "    up = ''\n",
    "    low = ''\n",
    "    both = ''\n",
    "    for ch in txt:\n",
    "        if ch.islower():\n",
    "            count_l += 1\n",
    "        if ch.isupper():\n",
    "            count_u += 1\n",
    "            \n",
    "    if count_u > 0:\n",
    "        up = 'In upper case' \n",
    "    if count_l > 0:\n",
    "        low = 'In lower case'\n",
    "    if count_u > 0 and count_l > 0:\n",
    "        up = ''\n",
    "        low = ''\n",
    "        both = 'Both lower and upper case'\n",
    "    #for word in txt_lst:\n",
    "        #for kuku in word.lower():\n",
    "            #kukus += 1\n",
    "    if int(kukus) == 0:\n",
    "        kukuak = ''\n",
    "        kukus = 'No kuku this way'\n",
    "    return 'Size of the text: ' + str(txt_len) + '\\n' + kukuak + str(kukus) + '\\n' + up + low + both"
   ]
  },
  {
   "cell_type": "code",
   "execution_count": 350,
   "id": "b6948bdd-e626-483b-9bb8-bf72092e19ff",
   "metadata": {},
   "outputs": [
    {
     "data": {
      "text/plain": [
       "\"Size of the text: 19\\nNumber of kuku's:1\\nBoth lower and upper case\""
      ]
     },
     "execution_count": 350,
     "metadata": {},
     "output_type": "execute_result"
    }
   ],
   "source": [
    "text_info('kuKu udaberrian kuu')"
   ]
  },
  {
   "cell_type": "code",
   "execution_count": 353,
   "id": "46327b51-4619-44f6-8da0-61cb396b8205",
   "metadata": {},
   "outputs": [],
   "source": [
    "def broken_keyboard(txt):\n",
    "    a = '%%'\n",
    "    e = '##'\n",
    "    u = '###'\n",
    "    txt = txt.replace(u, 'u')\n",
    "    txt = txt.replace(a, 'a')\n",
    "    txt = txt.replace(e, 'e')\n",
    "    \n",
    "    return txt\n",
    "    "
   ]
  },
  {
   "cell_type": "code",
   "execution_count": 354,
   "id": "3f4f082b-1d14-4da5-999a-a675c861b647",
   "metadata": {},
   "outputs": [
    {
     "data": {
      "text/plain": [
       "'I suddenly broke my keyboard'"
      ]
     },
     "execution_count": 354,
     "metadata": {},
     "output_type": "execute_result"
    }
   ],
   "source": [
    "broken_keyboard('I s###dd##nly brok## my k##ybo%%rd')"
   ]
  },
  {
   "cell_type": "code",
   "execution_count": 355,
   "id": "484ccbe7-7b63-481f-9afb-4e95605e336f",
   "metadata": {},
   "outputs": [],
   "source": [
    "def language_of_the_word(word):\n",
    "\n",
    "    if word.endswith('tion'):\n",
    "        return 'English'\n",
    "    elif word.endswith('tion'):\n",
    "        return 'English'\n",
    "    elif word.endswith('tion'):\n",
    "        return 'English'\n",
    "    else:\n",
    "        return \"Ups... I don't know!\""
   ]
  },
  {
   "cell_type": "code",
   "execution_count": 357,
   "id": "c5365fa8-949d-44d5-908f-e175905a1680",
   "metadata": {},
   "outputs": [
    {
     "data": {
      "text/plain": [
       "\"Ups... I don't know!\""
      ]
     },
     "execution_count": 357,
     "metadata": {},
     "output_type": "execute_result"
    }
   ],
   "source": [
    "language_of_the_word('fuck')"
   ]
  },
  {
   "cell_type": "code",
   "execution_count": 367,
   "id": "390a9ff5-656e-403d-a8fa-049065423f92",
   "metadata": {},
   "outputs": [],
   "source": [
    "def rainy_days(rainy):\n",
    "    days = rainy.split(' ')\n",
    "    if rainy == '':\n",
    "        return 7\n",
    "    return 7-len(days)"
   ]
  },
  {
   "cell_type": "code",
   "execution_count": 368,
   "id": "48cf2f3b-dc27-4eeb-a317-698b8c8acc14",
   "metadata": {},
   "outputs": [
    {
     "data": {
      "text/plain": [
       "4"
      ]
     },
     "execution_count": 368,
     "metadata": {},
     "output_type": "execute_result"
    }
   ],
   "source": [
    "rainy_days('un dos tres')"
   ]
  },
  {
   "cell_type": "code",
   "execution_count": 400,
   "id": "6c87739e-9759-48fe-866e-4bc3e2c93a5d",
   "metadata": {},
   "outputs": [],
   "source": [
    "def order_students_names(names):\n",
    "    rList = ''\n",
    "    or_names = names.split(' ')\n",
    "    or_names.sort()\n",
    "    for el in or_names:\n",
    "        rList = rList + '\\n'+el\n",
    "    return 'List of students:'+rList\n",
    "    "
   ]
  },
  {
   "cell_type": "code",
   "execution_count": 401,
   "id": "6dfeae8b-3cea-42cd-95be-2cdc4c5490c0",
   "metadata": {},
   "outputs": [
    {
     "data": {
      "text/plain": [
       "'List of students:\\nmikel\\npablo\\nzora'"
      ]
     },
     "execution_count": 401,
     "metadata": {},
     "output_type": "execute_result"
    }
   ],
   "source": [
    "order_students_names('pablo mikel zora')"
   ]
  },
  {
   "cell_type": "code",
   "execution_count": 405,
   "id": "dd537b12-891e-48cc-9a1d-ca9b7e86404c",
   "metadata": {},
   "outputs": [],
   "source": [
    "def palindromes(word):\n",
    "    word = word.replace(' ', '')\n",
    "    drow = word[::-1]\n",
    "    \n",
    "    if word == drow:\n",
    "        return 'Good!!'\n",
    "    if word != drow:\n",
    "        return 'No, you missed it...'"
   ]
  },
  {
   "cell_type": "code",
   "execution_count": 407,
   "id": "66ededa2-b11f-4a7c-b7bf-3257e42831fa",
   "metadata": {},
   "outputs": [
    {
     "data": {
      "text/plain": [
       "'Good!!'"
      ]
     },
     "execution_count": 407,
     "metadata": {},
     "output_type": "execute_result"
    }
   ],
   "source": [
    "palindromes('akarraka')"
   ]
  },
  {
   "cell_type": "code",
   "execution_count": 410,
   "id": "4cb2a398-1b43-4bf7-a481-33cdbd718e6d",
   "metadata": {},
   "outputs": [],
   "source": [
    "def total_spent(nums):\n",
    "    nums = nums.split(' ')\n",
    "    rSum = 0\n",
    "    for el in nums:\n",
    "        rSum = rSum + int(el)\n",
    "    return rSum"
   ]
  },
  {
   "cell_type": "code",
   "execution_count": 411,
   "id": "3efaebee-560f-419d-b76d-b2173c4a2579",
   "metadata": {},
   "outputs": [
    {
     "data": {
      "text/plain": [
       "64"
      ]
     },
     "execution_count": 411,
     "metadata": {},
     "output_type": "execute_result"
    }
   ],
   "source": [
    "total_spent('8 12 15 16 12 1')"
   ]
  },
  {
   "cell_type": "code",
   "execution_count": 1,
   "id": "3db940f9-8bae-4b64-8890-3449d27749a0",
   "metadata": {},
   "outputs": [],
   "source": [
    "def how_many_words(rWord):\n",
    "    words = input('')\n",
    "    new_words = []\n",
    "    rList = []\n",
    "    while words != '':\n",
    "        rList.append(words)\n",
    "        words = input('')\n",
    "    for word in rList:\n",
    "        if word not in new_words:\n",
    "            new_words.append(word)\n",
    "    return len(new_words)"
   ]
  },
  {
   "cell_type": "code",
   "execution_count": 2,
   "id": "56a93d00-460b-405a-8d26-08345f72d7b6",
   "metadata": {},
   "outputs": [
    {
     "name": "stdin",
     "output_type": "stream",
     "text": [
      " un\n",
      " un\n",
      " dos\n",
      " dos\n",
      " tres\n",
      " tres\n",
      " \n"
     ]
    },
    {
     "data": {
      "text/plain": [
       "3"
      ]
     },
     "execution_count": 2,
     "metadata": {},
     "output_type": "execute_result"
    }
   ],
   "source": [
    "how_many_words('')"
   ]
  },
  {
   "cell_type": "code",
   "execution_count": 20,
   "id": "d1f10224-1ceb-4a15-9cb8-385e1605029d",
   "metadata": {},
   "outputs": [],
   "source": [
    "def red_and_blue_cars(cars):\n",
    "    rCars = cars.split(' ')\n",
    "    blue = 0\n",
    "    red = 0\n",
    "    \n",
    "    for car in rCars:\n",
    "        if car == 'blue':\n",
    "            blue += 1\n",
    "        if car == 'red':\n",
    "            red += 1\n",
    "        \n",
    "    return red,blue"
   ]
  },
  {
   "cell_type": "code",
   "execution_count": 21,
   "id": "6f7d0204-9227-4603-a622-7d4a9cb62839",
   "metadata": {},
   "outputs": [
    {
     "data": {
      "text/plain": [
       "(1, 1)"
      ]
     },
     "execution_count": 21,
     "metadata": {},
     "output_type": "execute_result"
    }
   ],
   "source": [
    "red_and_blue_cars('red gred grey blue')"
   ]
  },
  {
   "cell_type": "code",
   "execution_count": 33,
   "id": "cb8b045c-845a-43d9-8754-ef9ba51d08a7",
   "metadata": {},
   "outputs": [],
   "source": [
    "def secret_message(pMessage):\n",
    "    message = pMessage.split(' ')\n",
    "    rSecret = []\n",
    "    for word in message:\n",
    "        if word[0].isupper():\n",
    "            rSecret.append(word)\n",
    "    rSecret.reverse()\n",
    "    #rSecret = str(rSecret)\n",
    "    rFin = ''\n",
    "    for el in rSecret:\n",
    "        rFin = rFin + ' ' + el\n",
    "    \n",
    "    return rFin.lower().strip()"
   ]
  },
  {
   "cell_type": "code",
   "execution_count": 34,
   "id": "21e91e1d-e5af-473d-ac5c-8122d517e66f",
   "metadata": {},
   "outputs": [
    {
     "data": {
      "text/plain": [
       "'to learn to program'"
      ]
     },
     "execution_count": 34,
     "metadata": {},
     "output_type": "execute_result"
    }
   ],
   "source": [
    "secret_message(\"tHIs PrOGRam teACheS To LeaRN pYThOn To cATs\")"
   ]
  },
  {
   "cell_type": "code",
   "execution_count": 35,
   "id": "5c42795e-c388-4a03-898f-feedc4c28857",
   "metadata": {},
   "outputs": [],
   "source": [
    "def super_anagrams(word1, word2):\n",
    "    if word1[0] == word2[0] and word1[-1] == word2[-1] and len(word1) == len(word2):\n",
    "        return 'Super Anagram!'\n",
    "    else:\n",
    "        return 'What?'"
   ]
  },
  {
   "cell_type": "code",
   "execution_count": null,
   "id": "2070f072-6c85-4337-8b87-94d4f38a31fe",
   "metadata": {},
   "outputs": [],
   "source": [
    "\n",
    "\n"
   ]
  },
  {
   "cell_type": "code",
   "execution_count": 45,
   "id": "54220a13-7c7f-47a4-9c5d-e75e21122bf4",
   "metadata": {},
   "outputs": [],
   "source": [
    "def average(x,y,z):\n",
    "    rSum = 0\n",
    "    rSum =  (x)+(y)+(z)\n",
    "    rAve = rSum/3\n",
    "    return rAve"
   ]
  },
  {
   "cell_type": "code",
   "execution_count": 46,
   "id": "296c16a4-9424-4d74-a36f-324e89390554",
   "metadata": {},
   "outputs": [
    {
     "data": {
      "text/plain": [
       "-3.0"
      ]
     },
     "execution_count": 46,
     "metadata": {},
     "output_type": "execute_result"
    }
   ],
   "source": [
    "average(-5,-7,3)"
   ]
  },
  {
   "cell_type": "code",
   "execution_count": 71,
   "id": "5a367ada-af5c-41b4-9a09-85989839674d",
   "metadata": {},
   "outputs": [],
   "source": [
    "def average(x,y,z):\n",
    "    rSum = 0\n",
    "    rSum =  x+y+z\n",
    "    rAve = rSum/3\n",
    "    return rAve\n",
    "\n",
    "def middle_number(x,y,z):\n",
    "    rList = []\n",
    "    rList.append(x)\n",
    "    rList.append(y)\n",
    "    rList.append(z)\n",
    "    rList.sort()\n",
    "    return rList[1]\n",
    "\n",
    "def str_odd(x):\n",
    "    if x % 2 == 1:\n",
    "        return 'odd'\n",
    "    else:\n",
    "        return 'even'\n",
    "\n",
    "def number_info(strn):\n",
    "    nums = strn.split(' ')\n",
    "    x = int(nums[0])\n",
    "    y = int(nums[1])\n",
    "    z = int(nums[2])\n",
    "\n",
    "    num_ave = average(x,y,z)\n",
    "    mid_num = middle_number(x,y,z)\n",
    "    odd = str_odd(mid_num)\n",
    "    return 'The average of the three numbers: ' + str(num_ave) +'\\n' + 'Middle number: '+ str(mid_num) + '\\nIt is ' + odd\n",
    "   \n",
    "    "
   ]
  },
  {
   "cell_type": "code",
   "execution_count": 72,
   "id": "24de225e-675e-4d7c-8c2b-d585154459db",
   "metadata": {},
   "outputs": [
    {
     "data": {
      "text/plain": [
       "'The average of the three numbers: 4.0\\nMiddle number: 4\\nIt is even'"
      ]
     },
     "execution_count": 72,
     "metadata": {},
     "output_type": "execute_result"
    }
   ],
   "source": [
    "number_info('2 6 4')"
   ]
  },
  {
   "cell_type": "code",
   "execution_count": 47,
   "id": "41b46a8f-2a1b-41c3-8d9c-5cc7033643f1",
   "metadata": {},
   "outputs": [],
   "source": [
    "def str_odd(x,y,z):\n",
    "    if x % 2 == 1 and y % 2 == 1 and z % 2 == 1:\n",
    "        return 'It is odd'\n",
    "    else:\n",
    "        return 'It is even'"
   ]
  },
  {
   "cell_type": "code",
   "execution_count": 49,
   "id": "3654d285-7a77-441b-99ee-63b1a3f0603c",
   "metadata": {},
   "outputs": [
    {
     "data": {
      "text/plain": [
       "'It is even'"
      ]
     },
     "execution_count": 49,
     "metadata": {},
     "output_type": "execute_result"
    }
   ],
   "source": [
    "str_odd(3,5,4)"
   ]
  },
  {
   "cell_type": "code",
   "execution_count": 64,
   "id": "4a66c833-29cb-4cad-858c-c9232765cf87",
   "metadata": {},
   "outputs": [],
   "source": [
    "def number_info(strn):\n",
    "    nums = strn.split(' ')\n",
    "    x = int(nums[0])\n",
    "    y = int(nums[1])\n",
    "    z = int(nums[2])\n",
    "\n",
    "    num_ave = average(x,y,z)\n",
    "    mid_num = middle_number(x,y,z)\n",
    "    odd = str_odd(mid_num)\n",
    "    return 'The average of the three numbers: ' + str(num_ave) +'\\n' + 'Middle number: '+ str(mid_num) + '\\nIt is ' + odd\n",
    "   "
   ]
  },
  {
   "cell_type": "code",
   "execution_count": 65,
   "id": "de19c248-eef0-4420-a0e1-49e855aea86e",
   "metadata": {},
   "outputs": [
    {
     "data": {
      "text/plain": [
       "'The average of the three numbers: -3.0\\nMiddle number: -5\\nIt is odd'"
      ]
     },
     "execution_count": 65,
     "metadata": {},
     "output_type": "execute_result"
    }
   ],
   "source": [
    "number_info(-5,-7,3)"
   ]
  },
  {
   "cell_type": "markdown",
   "id": "7d27b911-24b0-4851-a9b3-89ea6cc77586",
   "metadata": {},
   "source": [
    "## Dictionaries and files\n",
    "### Word2SMS"
   ]
  },
  {
   "cell_type": "code",
   "execution_count": 104,
   "id": "43c3f976-da3b-43ca-bf88-2116ef072ad9",
   "metadata": {},
   "outputs": [],
   "source": [
    "def word2sms(word:str):\n",
    "    rFin = ''\n",
    "    dos = ('a', 'b', 'c')\n",
    "    tres = ('d', 'e', 'f')\n",
    "    cuatro = ('g', 'h', 'i')\n",
    "    cinco = ('j', 'k', 'l')\n",
    "    seis = ('m', 'n', 'o')\n",
    "    siete = ('p', 'q', 'r', 's')\n",
    "    ocho = ('t', 'u', 'v')\n",
    "    nueve = ('w', 'x', 'y', 'z')\n",
    "    Dos = dict.fromkeys(dos, '2')\n",
    "    Tres = dict.fromkeys(tres, '3')\n",
    "    Cuatro = dict.fromkeys(cuatro, '4')\n",
    "    Cinco = dict.fromkeys(cinco, '5')\n",
    "    Seis = dict.fromkeys(seis, '6')\n",
    "    Siete = dict.fromkeys(siete, '7')\n",
    "    Ocho = dict.fromkeys(ocho, '8')\n",
    "    Nueve = dict.fromkeys(nueve, '9')\n",
    "    dic = {**Dos, **Tres, **Cuatro, **Cinco, **Seis, **Siete, **Ocho, **Nueve}\n",
    "    for ch in word.lower():\n",
    "        ch = dic.get(ch)\n",
    "        rFin += ch\n",
    "    return rFin"
   ]
  },
  {
   "cell_type": "code",
   "execution_count": 105,
   "id": "31c7c66a-89ac-4ef5-8c95-7c76c0c2e46d",
   "metadata": {},
   "outputs": [
    {
     "data": {
      "text/plain": [
       "'52496'"
      ]
     },
     "execution_count": 105,
     "metadata": {},
     "output_type": "execute_result"
    }
   ],
   "source": [
    "word2sms('Kaixo')"
   ]
  },
  {
   "cell_type": "code",
   "execution_count": 10,
   "id": "6c007c72-5eb9-4b5c-9a75-d01fbccc9ee8",
   "metadata": {},
   "outputs": [],
   "source": [
    "def favourite_colour():\n",
    "    usr_inp = input('')\n",
    "    #register = {}\n",
    "    rStr = ''\n",
    "    lst = []\n",
    "    while usr_inp != '':\n",
    "        usr_inp = usr_inp.split(' ')\n",
    "        List = usr_inp[0] , usr_inp[1]\n",
    "        lst.append(List)\n",
    "        usr_inp = input('')\n",
    "    lst.sort()\n",
    "    for pak in lst:\n",
    "        rStr.strip()\n",
    "        rStr += '\\n'\n",
    "        for i in pak:\n",
    "            rStr += str(i) + ' '\n",
    "    return rStr.strip()"
   ]
  },
  {
   "cell_type": "code",
   "execution_count": 12,
   "id": "e4e54e69-53c3-4396-8acc-71fd46b5bec3",
   "metadata": {},
   "outputs": [
    {
     "name": "stdin",
     "output_type": "stream",
     "text": [
      " a a\n",
      " b b\n",
      " \n"
     ]
    },
    {
     "data": {
      "text/plain": [
       "'a a \\nb b'"
      ]
     },
     "execution_count": 12,
     "metadata": {},
     "output_type": "execute_result"
    }
   ],
   "source": [
    "favourite_colour()"
   ]
  },
  {
   "cell_type": "code",
   "execution_count": 4,
   "id": "c69d1d53-cb0c-4cb4-a1fd-26d8fe595efe",
   "metadata": {},
   "outputs": [],
   "source": [
    "def prueba():\n",
    "    rFin = ''\n",
    "    dos = ('a', 'b', 'c')\n",
    "    tres = ('d', 'e', 'f')\n",
    "    cuatro = ('g', 'h', 'i')\n",
    "    cinco = ('j', 'k', 'l')\n",
    "    seis = ('m', 'n', 'o')\n",
    "    siete = ('p', 'q', 'r', 's')\n",
    "    ocho = ('t', 'u', 'v')\n",
    "    nueve = ('w', 'x', 'y', 'z')\n",
    "    Dos = dict.fromkeys(dos, '2')\n",
    "    Tres = dict.fromkeys(tres, '3')\n",
    "    Cuatro = dict.fromkeys(cuatro, '4')\n",
    "    Cinco = dict.fromkeys(cinco, '5')\n",
    "    Seis = dict.fromkeys(seis, '6')\n",
    "    Siete = dict.fromkeys(siete, '7')\n",
    "    Ocho = dict.fromkeys(ocho, '8')\n",
    "    Nueve = dict.fromkeys(nueve, '9')\n",
    "    dic = {**Dos, **Tres, **Cuatro, **Cinco, **Seis, **Siete, **Ocho, **Nueve}\n",
    "    return str(dic)"
   ]
  },
  {
   "cell_type": "code",
   "execution_count": 5,
   "id": "245546f5-33b0-48cc-9f85-8fa8c7eb1d92",
   "metadata": {},
   "outputs": [
    {
     "data": {
      "text/plain": [
       "\"{'a': '2', 'b': '2', 'c': '2', 'd': '3', 'e': '3', 'f': '3', 'g': '4', 'h': '4', 'i': '4', 'j': '5', 'k': '5', 'l': '5', 'm': '6', 'n': '6', 'o': '6', 'p': '7', 'q': '7', 'r': '7', 's': '7', 't': '8', 'u': '8', 'v': '8', 'w': '9', 'x': '9', 'y': '9', 'z': '9'}\""
      ]
     },
     "execution_count": 5,
     "metadata": {},
     "output_type": "execute_result"
    }
   ],
   "source": [
    "prueba()"
   ]
  },
  {
   "cell_type": "code",
   "execution_count": 62,
   "id": "d4cf5544-e50d-4f18-baed-2e4eb69310a0",
   "metadata": {},
   "outputs": [],
   "source": [
    "def favourite_colour():\n",
    "    colours = {}\n",
    "    rStr = ''\n",
    "    usr_inp = input('')\n",
    "    while usr_inp != '':\n",
    "        name, colour = usr_inp.split(' ')\n",
    "        \n",
    "        colours[name] = colour\n",
    "        #rStr += str(name) + ' ' + str(colour) + '\\n'\n",
    "        usr_inp = input('')\n",
    "    #ColorSort = sorted(colours)\n",
    "    for name in sorted(colours):\n",
    "        rStr += name + ' ' + colours[name] + '\\n'\n",
    "            #rStr += str(el) + ' ' + str(i) + '\\n'\n",
    "    return rStr.strip()\n",
    "        "
   ]
  },
  {
   "cell_type": "code",
   "execution_count": 66,
   "id": "4a6a3b0c-2707-4b14-a065-ab3f1acdbfb1",
   "metadata": {},
   "outputs": [
    {
     "name": "stdin",
     "output_type": "stream",
     "text": [
      " \n"
     ]
    },
    {
     "data": {
      "text/plain": [
       "''"
      ]
     },
     "execution_count": 66,
     "metadata": {},
     "output_type": "execute_result"
    }
   ],
   "source": [
    "favourite_colour()\n"
   ]
  },
  {
   "cell_type": "code",
   "execution_count": 95,
   "id": "663c7792-2f01-498b-95f4-56e36800f090",
   "metadata": {},
   "outputs": [],
   "source": [
    "def cars_colours():\n",
    "    cars = {}\n",
    "    rStr = ''\n",
    "    usr_inp = input('')\n",
    "    while usr_inp != '':\n",
    "        if usr_inp in cars:\n",
    "            cars[usr_inp] += 1\n",
    "        else:\n",
    "            cars[usr_inp] = 1\n",
    "        usr_inp = input('')\n",
    "    for car in  sorted(cars):\n",
    "        rStr =+ car + ' ' + cars[car] + '\\n'\n",
    "    return rStr"
   ]
  },
  {
   "cell_type": "code",
   "execution_count": 96,
   "id": "7d6b368a-c416-4830-8862-a1e5b3dd4002",
   "metadata": {},
   "outputs": [
    {
     "name": "stdin",
     "output_type": "stream",
     "text": [
      " hello my friend how are you\n",
      " hello my friend how are you\n",
      " hello my friend how are you\n",
      " \n"
     ]
    },
    {
     "data": {
      "text/plain": [
       "'are 3\\nfriend 3\\nhello 3\\nhow 3\\nmy 3\\nyou 3'"
      ]
     },
     "execution_count": 96,
     "metadata": {},
     "output_type": "execute_result"
    }
   ],
   "source": [
    "cars_colours()"
   ]
  },
  {
   "cell_type": "code",
   "execution_count": null,
   "id": "6b1072c0-445c-4322-b1f3-d9d821d67313",
   "metadata": {},
   "outputs": [],
   "source": [
    "def words_frequency():\n",
    "    words = {}\n",
    "    rStr = ''\n",
    "    usr_inp = input('')\n",
    "    while usr_inp != '':\n",
    "        for i in usr_inp.split(' '):\n",
    "            if i in words:\n",
    "                words[i] += 1\n",
    "            else:\n",
    "                words[i] = 1\n",
    "        usr_inp = input('')\n",
    "    for word in sorted(words, reverse = True):\n",
    "        rStr += word + ' ' + str(words[word]) + '\\n'\n",
    "    return rStr.strip()"
   ]
  },
  {
   "cell_type": "code",
   "execution_count": 97,
   "id": "bf73a090-acf5-4755-9f12-b95d145709fe",
   "metadata": {},
   "outputs": [],
   "source": [
    "def shout_request(path):\n",
    "    rStr = ''\n",
    "    file = open(path)\n",
    "    for line in file:\n",
    "        rStr += line.upper()\n",
    "    return rStr\n",
    "        "
   ]
  },
  {
   "cell_type": "code",
   "execution_count": 120,
   "id": "b6fa34d1-a792-4dc4-a425-04fc4e12dbbd",
   "metadata": {},
   "outputs": [],
   "source": [
    "def word_in_the_book(path, word):\n",
    "    rStr = ''\n",
    "    file = open(path)\n",
    "    count_w = 0\n",
    "    count_l = 0\n",
    "    for line in file:\n",
    "        count_l += 1\n",
    "        if word in line:\n",
    "            count_w = line.count(word)\n",
    "            rStr += 'Found in line: ' + str(count_l) + '\\n'\n",
    "    if count_w == 0:\n",
    "        return 'Not found'\n",
    "    file.close()\n",
    "\n",
    "    return rStr "
   ]
  },
  {
   "cell_type": "code",
   "execution_count": 121,
   "id": "b19f3c5b-ebde-49e5-a46d-9e5963eab674",
   "metadata": {},
   "outputs": [
    {
     "data": {
      "text/plain": [
       "'Found in line: 3\\nFound in line: 39\\nFound in line: 44\\nFound in line: 46\\nFound in line: 71\\n'"
      ]
     },
     "execution_count": 121,
     "metadata": {},
     "output_type": "execute_result"
    }
   ],
   "source": [
    "word_in_the_book(\"../data/book.txt\",\"eder\")"
   ]
  },
  {
   "cell_type": "code",
   "execution_count": 169,
   "id": "a8fa0dcf-6954-4850-8bd1-06ccdb2309ab",
   "metadata": {},
   "outputs": [],
   "source": [
    "def spanish_elephant_in_file(path):\n",
    "    rStr = ''\n",
    "    file = open(path)\n",
    "    \n",
    "    count_l = 0\n",
    "    for line in file:\n",
    "        count_l += 1\n",
    "        if line.count('e') > 2 and line.count('l') > 0 and line.lower().count('f') > 0 and line.count('a') > 0 and line.count('n') > 0 and line.count('t') > 0:\n",
    "            rStr += 'Spanish elephant in this line: ' + str(count_l) + '\\n'\n",
    "    file.close()\n",
    "\n",
    "    return rStr "
   ]
  },
  {
   "cell_type": "code",
   "execution_count": 170,
   "id": "c9364410-b1e1-49cb-8e3e-1b2249dcb8f5",
   "metadata": {},
   "outputs": [
    {
     "data": {
      "text/plain": [
       "'Spanish elephant in this line: 3\\nSpanish elephant in this line: 7\\nSpanish elephant in this line: 10\\n'"
      ]
     },
     "execution_count": 170,
     "metadata": {},
     "output_type": "execute_result"
    }
   ],
   "source": [
    "spanish_elephant_in_file(\"../data/sayings.txt\")"
   ]
  },
  {
   "cell_type": "code",
   "execution_count": 146,
   "id": "2c82e6b5-04ac-4c81-a612-32d0d75415ff",
   "metadata": {},
   "outputs": [
    {
     "name": "stdout",
     "output_type": "stream",
     "text": [
      "data/sayings.txt\n"
     ]
    }
   ],
   "source": []
  },
  {
   "cell_type": "code",
   "execution_count": 264,
   "id": "2a2e28e3-f828-45d5-baed-ebe8afdb135f",
   "metadata": {},
   "outputs": [],
   "source": [
    "def scrabble_game(word):\n",
    "    eus = open('../data/points_eu.txt')\n",
    "    eng = open('../data/points_en.txt')\n",
    "    \n",
    "    eus_dic = {}\n",
    "    eng_dic = {}\n",
    "    \n",
    "    eus_score = 0\n",
    "    eng_score = 0\n",
    "    \n",
    "    for line in eus:\n",
    "        key, value = line.split()\n",
    "        eus_dic[value.lower()] = int(key)\n",
    "    \n",
    "    for line in eng:\n",
    "        key, value = line.split()\n",
    "        eng_dic[value.lower()] = int(key)\n",
    "    \n",
    "    for char in word:\n",
    "        eus_score += eus_dic.get(char)\n",
    "        \n",
    "    for char in word:\n",
    "        eng_score += eng_dic.get(char)\n",
    "        \n",
    "        \n",
    "    return  eus_score, eng_score\n",
    "    "
   ]
  },
  {
   "cell_type": "code",
   "execution_count": 265,
   "id": "befe9a35-adde-4f66-8766-f434665cdeca",
   "metadata": {},
   "outputs": [
    {
     "data": {
      "text/plain": [
       "(15, 16)"
      ]
     },
     "execution_count": 265,
     "metadata": {},
     "output_type": "execute_result"
    }
   ],
   "source": [
    "scrabble_game('kaixo')"
   ]
  },
  {
   "cell_type": "code",
   "execution_count": 393,
   "id": "36f50a08-0e97-439f-aa5f-85e1f2d9dcaa",
   "metadata": {},
   "outputs": [],
   "source": [
    "def usernames(path):\n",
    "    import csv\n",
    "    \n",
    "    usr_lst = open(path, 'r')\n",
    "    header = next(usr_lst)\n",
    "\n",
    "    usr_DB = []\n",
    "    \n",
    "    count = 0\n",
    "    rStr = ''\n",
    "    f_name_s = ''\n",
    "    f_name_c = ''\n",
    "    midName = ''\n",
    "    \n",
    "    if header != None:\n",
    "        for row in usr_lst:\n",
    "            f_name, surname = row.split(' ', 1)\n",
    "            f_name.lower()\n",
    "            surname.lower()\n",
    "            if '\"' in f_name and '\"' in surname:\n",
    "                f_name, midName, surname = row.split(' ')\n",
    "                f_name += midName\n",
    "            if f_name not in usr_DB:\n",
    "                usr_DB.append(f_name)\n",
    "            elif f_name in usr_DB:\n",
    "                f_name += surname[0]\n",
    "                f_name_s = f_name\n",
    "                f_name_c = f_name_s\n",
    "                if f_name_s in usr_DB:\n",
    "                    while f_name_c in usr_DB:\n",
    "                        count+=1\n",
    "                        f_name_c = f_name_s + str(count)\n",
    "                    count = 0\n",
    "                    usr_DB.append(f_name_c)\n",
    "                else:\n",
    "                    usr_DB.append(f_name_s)\n",
    "        for el in usr_DB:\n",
    "            rStr += el + '\\n'\n",
    "    return rStr.lower().strip().replace('\"', '')\n"
   ]
  },
  {
   "cell_type": "code",
   "execution_count": 394,
   "id": "90076878-2804-4dbe-9b72-1e7a05529dd8",
   "metadata": {},
   "outputs": [
    {
     "data": {
      "text/plain": [
       "'malen\\nmalena\\nane\\nanea\\nanea1\\nanea2\\naimar\\naitor\\naitoro\\naitoro1\\njon\\njonander'"
      ]
     },
     "execution_count": 394,
     "metadata": {},
     "output_type": "execute_result"
    }
   ],
   "source": [
    "usernames('../data/class_list.csv')"
   ]
  },
  {
   "cell_type": "code",
   "execution_count": 23,
   "id": "515e7732-60dd-4209-8256-c08223e7d8f1",
   "metadata": {},
   "outputs": [],
   "source": [
    "def londons_weather(temp :int, iPath :str, oPath:str):\n",
    "    import pandas as pd\n",
    "    \n",
    "    iFile = pd.read_csv(iPath, sep = '\\t')\n",
    "     \n",
    "    temp_av= 0\n",
    "    t_entry = 0\n",
    "    s_rain = 0\n",
    "    wind_av = 0\n",
    "    \n",
    "    for index, value in iFile.iterrows():\n",
    "        if value['Temperature'] >= temp:\n",
    "            temp_av += value['Temperature']\n",
    "            t_entry +=1\n",
    "            s_rain += value['Precipitation']\n",
    "            wind_av += value['Wind-speed']\n",
    "    \n",
    "    temp_av = temp_av/t_entry\n",
    "    wind_av = wind_av/t_entry\n",
    "    outFile = open(oPath, 'w')\n",
    "    \n",
    "    txt1 = \"Total entries: {}\\nAverage temperature: {}\\nTotal precipitation: {}\\nAverage wind-speed: {}\".format(t_entry,\n",
    "                                                                                                               round(temp_av, 2), \n",
    "                                                                                                               round(s_rain, 2), \n",
    "                                                                                                               round(wind_av, 2))\n",
    "    \n",
    "    oFile = iFile[['Year','Month', 'Day', 'Temperature', 'Precipitation', 'Wind-speed']]\n",
    "    df_tail = iFile[['Temperature', 'Precipitation', 'Wind-speed']]\n",
    "    \n",
    "    df_head = oFile.assign(Date = oFile.Year.astype(str) + '-' + oFile.Month.astype(str) + '- ' + oFile.Day.astype(str))\n",
    "    output = pd.concat([df_head, df_tail], ignore_index=True, sort=False)\n",
    "    output = output[['Date', 'Temperature', 'Precipitation', 'Wind-speed']]\n",
    "    \n",
    "    output.to_csv(oPath, sep='\\t', index=False)\n",
    "    \n",
    "    return txt1.strip()\n",
    "    "
   ]
  },
  {
   "cell_type": "code",
   "execution_count": null,
   "id": "d377a48d-443b-487e-95ee-14b49aa17a83",
   "metadata": {},
   "outputs": [],
   "source": []
  },
  {
   "cell_type": "code",
   "execution_count": null,
   "id": "111dbef0-b574-48da-81aa-2e21f959e95b",
   "metadata": {},
   "outputs": [],
   "source": []
  },
  {
   "cell_type": "code",
   "execution_count": null,
   "id": "0a0ed895-8418-45d7-9389-f61f48831bff",
   "metadata": {},
   "outputs": [],
   "source": []
  }
 ],
 "metadata": {
  "kernelspec": {
   "display_name": "Python 3",
   "language": "python",
   "name": "python3"
  },
  "language_info": {
   "codemirror_mode": {
    "name": "ipython",
    "version": 3
   },
   "file_extension": ".py",
   "mimetype": "text/x-python",
   "name": "python",
   "nbconvert_exporter": "python",
   "pygments_lexer": "ipython3",
   "version": "3.8.8"
  }
 },
 "nbformat": 4,
 "nbformat_minor": 5
}
